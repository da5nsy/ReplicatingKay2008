{
 "cells": [
  {
   "cell_type": "code",
   "execution_count": 4,
   "metadata": {},
   "outputs": [],
   "source": [
    "import os\n",
    "import numpy as np\n",
    "import matplotlib.pyplot as plt"
   ]
  },
  {
   "cell_type": "code",
   "execution_count": 5,
   "metadata": {},
   "outputs": [],
   "source": [
    "fname = \"kay_images.npz\"\n",
    "if not os.path.exists(fname):\n",
    "  !wget -qO $fname https://osf.io/ymnjv/download"
   ]
  },
  {
   "cell_type": "code",
   "execution_count": 6,
   "metadata": {},
   "outputs": [],
   "source": [
    "with np.load(fname) as dobj:\n",
    "    dat = dict(**dobj)"
   ]
  },
  {
   "cell_type": "code",
   "execution_count": 7,
   "metadata": {},
   "outputs": [
    {
     "name": "stdout",
     "output_type": "stream",
     "text": [
      "X_train shape:  (1172, 2729)\n",
      "y_train shape:  (1172, 8428)\n",
      "X_test shape:  (578, 2729)\n",
      "y_test shape:  (578, 8428)\n"
     ]
    }
   ],
   "source": [
    "from sklearn.model_selection import train_test_split\n",
    "from sklearn.preprocessing import StandardScaler\n",
    "\n",
    "X = np.load(\"datafiles/proj.npy\")\n",
    "Y = dat[\"responses\"]\n",
    "X_train, X_test, y_train, y_test = train_test_split(X, Y, test_size=0.33, shuffle = False) #Would be better 90/10\n",
    "\n",
    "#Scale data?\n",
    "scaler = StandardScaler()\n",
    "scaler.fit(X_train)\n",
    "X_train = scaler.transform(X_train)\n",
    "X_test = scaler.transform(X_test)\n",
    "\n",
    "coef_init = np.zeros(X.shape[1])\n",
    "\n",
    "print(\"X_train shape: \", X_train.shape)\n",
    "print(\"y_train shape: \", y_train.shape)\n",
    "print(\"X_test shape: \", X_test.shape)\n",
    "print(\"y_test shape: \", y_test.shape)"
   ]
  },
  {
   "cell_type": "code",
   "execution_count": 8,
   "metadata": {},
   "outputs": [
    {
     "name": "stdout",
     "output_type": "stream",
     "text": [
      "Iteration:  0 / 8428\n",
      "Iteration:  100 / 8428\n",
      "Iteration:  200 / 8428\n",
      "Iteration:  300 / 8428\n",
      "Iteration:  400 / 8428\n",
      "Iteration:  500 / 8428\n",
      "Iteration:  600 / 8428\n",
      "Iteration:  700 / 8428\n",
      "Iteration:  800 / 8428\n",
      "Iteration:  900 / 8428\n",
      "Iteration:  1000 / 8428\n",
      "Iteration:  1100 / 8428\n",
      "Iteration:  1200 / 8428\n",
      "Iteration:  1300 / 8428\n",
      "Iteration:  1400 / 8428\n",
      "Iteration:  1500 / 8428\n",
      "Iteration:  1600 / 8428\n",
      "Iteration:  1700 / 8428\n",
      "Iteration:  1800 / 8428\n",
      "Iteration:  1900 / 8428\n",
      "Iteration:  2000 / 8428\n",
      "Iteration:  2100 / 8428\n",
      "Iteration:  2200 / 8428\n",
      "Iteration:  2300 / 8428\n",
      "Iteration:  2400 / 8428\n",
      "Iteration:  2500 / 8428\n",
      "Iteration:  2600 / 8428\n",
      "Iteration:  2700 / 8428\n",
      "Iteration:  2800 / 8428\n",
      "Iteration:  2900 / 8428\n",
      "Iteration:  3000 / 8428\n",
      "Iteration:  3100 / 8428\n",
      "Iteration:  3200 / 8428\n",
      "Iteration:  3300 / 8428\n",
      "Iteration:  3400 / 8428\n",
      "Iteration:  3500 / 8428\n",
      "Iteration:  3600 / 8428\n",
      "Iteration:  3700 / 8428\n",
      "Iteration:  3800 / 8428\n",
      "Iteration:  3900 / 8428\n",
      "Iteration:  4000 / 8428\n",
      "Iteration:  4100 / 8428\n",
      "Iteration:  4200 / 8428\n",
      "Iteration:  4300 / 8428\n",
      "Iteration:  4400 / 8428\n",
      "Iteration:  4500 / 8428\n",
      "Iteration:  4600 / 8428\n",
      "Iteration:  4700 / 8428\n",
      "Iteration:  4800 / 8428\n",
      "Iteration:  4900 / 8428\n",
      "Iteration:  5000 / 8428\n",
      "Iteration:  5100 / 8428\n",
      "Iteration:  5200 / 8428\n",
      "Iteration:  5300 / 8428\n",
      "Iteration:  5400 / 8428\n",
      "Iteration:  5500 / 8428\n",
      "Iteration:  5600 / 8428\n",
      "Iteration:  5700 / 8428\n",
      "Iteration:  5800 / 8428\n",
      "Iteration:  5900 / 8428\n",
      "Iteration:  6000 / 8428\n",
      "Iteration:  6100 / 8428\n",
      "Iteration:  6200 / 8428\n",
      "Iteration:  6300 / 8428\n",
      "Iteration:  6400 / 8428\n",
      "Iteration:  6500 / 8428\n",
      "Iteration:  6600 / 8428\n",
      "Iteration:  6700 / 8428\n",
      "Iteration:  6800 / 8428\n",
      "Iteration:  6900 / 8428\n",
      "Iteration:  7000 / 8428\n",
      "Iteration:  7100 / 8428\n",
      "Iteration:  7200 / 8428\n",
      "Iteration:  7300 / 8428\n",
      "Iteration:  7400 / 8428\n",
      "Iteration:  7500 / 8428\n",
      "Iteration:  7600 / 8428\n",
      "Iteration:  7700 / 8428\n",
      "Iteration:  7800 / 8428\n",
      "Iteration:  7900 / 8428\n",
      "Iteration:  8000 / 8428\n",
      "Iteration:  8100 / 8428\n",
      "Iteration:  8200 / 8428\n",
      "Iteration:  8300 / 8428\n",
      "Iteration:  8400 / 8428\n"
     ]
    }
   ],
   "source": [
    "from sklearn.linear_model import SGDRegressor\n",
    "from sklearn.metrics import r2_score\n",
    "\n",
    "r2_list = []\n",
    "\n",
    "reg = SGDRegressor(early_stopping = True, eta0 = 0.001, n_iter_no_change = 10, max_iter = 10000, shuffle = False, tol=1e-3, validation_fraction = 0.2)\n",
    "\n",
    "for i in range(y_train.shape[1]): #for each voxel\n",
    "    reg.fit(X_train, y_train[:,i], coef_init = coef_init)\n",
    "    y_pred = reg.predict(X_test)\n",
    "    r2 = r2_score(y_test[:,i], y_pred)\n",
    "    r2_list.append(r2)\n",
    "    if (i % 100) == 0:\n",
    "        print(\"Iteration: \", i, \"/\", y_train.shape[1])\n",
    "    "
   ]
  },
  {
   "cell_type": "code",
   "execution_count": 9,
   "metadata": {},
   "outputs": [
    {
     "data": {
      "image/png": "[encoded data removed]",
      "text/plain": [
       "<Figure size 432x288 with 1 Axes>"
      ]
     },
     "metadata": {
      "needs_background": "light"
     },
     "output_type": "display_data"
    }
   ],
   "source": [
    "plt.hist(r2_list)\n",
    "plt.title(\"r2 values\")\n",
    "plt.show()"
   ]
  },
  {
   "cell_type": "code",
   "execution_count": 25,
   "metadata": {},
   "outputs": [
    {
     "name": "stdout",
     "output_type": "stream",
     "text": [
      "[2733 7034  961 6450 4070 1702 7622 6698 3771 4782 7487  336 6303 2635\n",
      "   11 7208 6795 7255 4883  331  855 3885 5994 6003 2426 1398 3414 3754\n",
      " 6547  663 5333 2649 3640 2694 3621 2586 1949 6733 1912  458  421 6956\n",
      " 1379 2388 1046 1588  255 2774 4469 3822  249 2007 1812 2712 7062 6736\n",
      " 2699 1193 6342 5381 1580  382 5639 5228 6610 6179 4148  104   96 2000\n",
      " 6480 6604 7365 1110 2353 4498  353  761 7537 1632   97 7782 7664  414\n",
      " 7815 3825   40 6489 3374 8418 5753 4824 5147 5661 1481  332 3905 5793\n",
      " 6444 1017 5122 2724 2403 2732 4889 1519 5106 6854 3667 5007  678 5708\n",
      " 7431 6268   73  283 6270 2872 4997  185 2469 7047 1041 4902 3869 3230\n",
      " 1554  836  102 6293  833 6111 1230  829 3745 8367 1082 3206 4668 4920\n",
      " 3210 7727 4909 4396  479 5615  856 6028 1611 3266 1510 3181 1509  110\n",
      " 5146 2681 4327 4825 7774  918 6571  147 5792 1988  188 5203  932  578\n",
      "  951 7522 7994 3824 6343 4811 7517 7388 2023 4764  622  340 2265 5451\n",
      " 1378 3638 1832 4068 7493 5366  683 1827 4690 5812 7483 6064 5415 7881\n",
      " 6837 6834 2833 3724  665 7630 4677 3971 6410 2091 5849 1739 2760  171\n",
      " 1790 2880 5906 3950 7135 7134 2725 3003 6445 2723 6463 2722 7220 7665\n",
      " 3828 1695 1850 3073 1665 3104 3129 2697 1134 4818 6486 4823 7691  566\n",
      " 7692 1191 4468 2693 7693 4832 3166  784 5498  788  790 1867  181 3188\n",
      "  807  520 1592  510 4908  815  822  824  825 2583 3224  496 2500 4945\n",
      "  494 3229 6072 4958 4989 4990 6524 3238 3772  476 4354 1535  456 6271\n",
      " 3262 5472 7743 3265 3267  865 2439 1943 3280 2430 5039 5054  439 3283\n",
      " 3883 2404 3284 5754  431 6980  429 5135 4328 2401 5144 7763  889  890\n",
      " 6572 7542 2367 4246 3390 3393 3395  399 7536 3396 1410 7362 1405 1995\n",
      " 1996 5733  386 3453 6609 7991 3455 4157 3507 1107 6623 7807 7389 1396\n",
      " 2267 2013 5288  993 2024 2025  995 4097 5647 4094  335 2238 2197   99\n",
      " 4082 4075 1009 5332 4067 4035 2037 2141 7488 1180 7955 3925 5368 2132\n",
      " 3995  304 3990 3707 6720 6833 6832 2053 6119 3982 2055 6824  222 3729\n",
      " 2056 1235 6109 1078 2093    3 5710  231 3757 5393 3947 2075  226 5379\n",
      " 5373  284  308 5352  214  337  342  346  354 5201 5200  452  477  492\n",
      "  497 4901 4826 4822  173  636 4683  664 6456  778  783  785  787  808\n",
      "  821  837 6526 6527 6534 4340  886    1 6608 4095  998 4080 7953 5680\n",
      " 3997 3993 1047 5709 1079 3954 1106 1133 1139 3858 7883 7882 1189 1190\n",
      " 7852 7847 6883 6884 3449 5729 3448 5989 1409 3412 3361 3287 1532 1533\n",
      " 3249 1562 3202 5769 5770 3201 1591 3165 3103 7122   41 2885 2882 7192\n",
      " 7633 2721 1851 2653 2617 2572 2513 1906 1939 2438 1973 2370 7364 7521\n",
      " 7499 5885 7498 2140 2115 5919 2054 2092    2    0]\n",
      "Least terrible voxel:  2733\n"
     ]
    }
   ],
   "source": [
    "best_500_ind = np.argpartition(r2_list, -500)[-500:]\n",
    "best_vox = best_500_ind[0]\n",
    "print(best_500_ind)\n",
    "print(\"Least terrible voxel: \", best_vox)"
   ]
  },
  {
   "cell_type": "code",
   "execution_count": 21,
   "metadata": {},
   "outputs": [
    {
     "name": "stdout",
     "output_type": "stream",
     "text": [
      "(578, 8428)\n"
     ]
    }
   ],
   "source": [
    "reg.fit(X_train, y_train[:,best_vox], coef_init = coef_init)\n",
    "y_pred = reg.predict(X_test)\n",
    "print(y_test.shape)"
   ]
  },
  {
   "cell_type": "code",
   "execution_count": 23,
   "metadata": {},
   "outputs": [
    {
     "name": "stdout",
     "output_type": "stream",
     "text": [
      "True response:  -0.9964937273990774\n",
      "Predicted response:  0.05418902327149806\n"
     ]
    }
   ],
   "source": [
    "print(\"True response: \", y_test[0][best_vox])\n",
    "print(\"Predicted response: \", y_pred[0])"
   ]
  },
  {
   "cell_type": "code",
   "execution_count": 24,
   "metadata": {},
   "outputs": [
    {
     "data": {
      "image/png": "[encoded data removed]",
      "text/plain": [
       "<Figure size 432x288 with 1 Axes>"
      ]
     },
     "metadata": {
      "needs_background": "light"
     },
     "output_type": "display_data"
    }
   ],
   "source": [
    "plt.scatter(y_test[:,best_vox], y_pred, color = \"black\")\n",
    "plt.xlabel(\"True response\")\n",
    "plt.ylabel(\"Predicted response\")\n",
    "plt.title(\"True vs. predicted response: Voxel 0\")\n",
    "plt.show()"
   ]
  },
  {
   "cell_type": "code",
   "execution_count": 158,
   "metadata": {},
   "outputs": [
    {
     "name": "stdout",
     "output_type": "stream",
     "text": [
      "R^2 score:  -0.7790106506050938\n"
     ]
    }
   ],
   "source": [
    "from sklearn.metrics import r2_score\n",
    "\n",
    "r2 = r2_score(y_test[:,0], y_pred)\n",
    "\n",
    "print(\"R^2 score: \", r2)"
   ]
  },
  {
   "cell_type": "code",
   "execution_count": null,
   "metadata": {},
   "outputs": [],
   "source": []
  }
 ],
 "metadata": {
  "kernelspec": {
   "display_name": "Python 3",
   "language": "python",
   "name": "python3"
  },
  "language_info": {
   "codemirror_mode": {
    "name": "ipython",
    "version": 3
   },
   "file_extension": ".py",
   "mimetype": "text/x-python",
   "name": "python",
   "nbconvert_exporter": "python",
   "pygments_lexer": "ipython3",
   "version": "3.7.6"
  }
 },
 "nbformat": 4,
 "nbformat_minor": 4
}
