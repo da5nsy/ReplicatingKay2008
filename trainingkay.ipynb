{
 "cells": [
  {
   "cell_type": "code",
   "execution_count": 1,
   "metadata": {},
   "outputs": [],
   "source": [
    "import os\n",
    "import numpy as np\n",
    "import matplotlib.pyplot as plt"
   ]
  },
  {
   "cell_type": "code",
   "execution_count": 2,
   "metadata": {},
   "outputs": [],
   "source": [
    "fname = \"kay_images.npz\"\n",
    "if not os.path.exists(fname):\n",
    "  !wget -qO $fname https://osf.io/ymnjv/download"
   ]
  },
  {
   "cell_type": "code",
   "execution_count": 3,
   "metadata": {},
   "outputs": [],
   "source": [
    "with np.load(fname) as dobj:\n",
    "    dat = dict(**dobj)"
   ]
  },
  {
   "cell_type": "code",
   "execution_count": 6,
   "metadata": {},
   "outputs": [],
   "source": [
    "# @title rsquare: Compute coefficient of determination of data fit model and RMSE\n",
    "def rsquare(y,f,varargin=True):\n",
    "    # % Compute coefficient of determination of data fit model and RMSE\n",
    "    # %\n",
    "    # % [r2 rmse] = rsquare(y,f)\n",
    "    # % [r2 rmse] = rsquare(y,f,c)\n",
    "    # %\n",
    "    # % RSQUARE computes the coefficient of determination (R-square) value from\n",
    "    # % actual data Y and model data F. The code uses a general version of \n",
    "    # % R-square, based on comparing the variability of the estimation errors \n",
    "    # % with the variability of the original values. RSQUARE also outputs the\n",
    "    # % root mean squared error (RMSE) for the user's convenience.\n",
    "    # %\n",
    "    # % Note: RSQUARE ignores comparisons involving NaN values.\n",
    "    # % \n",
    "    # % INPUTS\n",
    "    # %   Y       : Actual data\n",
    "    # %   F       : Model fit\n",
    "    # %\n",
    "    # % OPTION\n",
    "    # %   C       : Constant term in model\n",
    "    # %             R-square may be a questionable measure of fit when no\n",
    "    # %             constant term is included in the model.\n",
    "    # %   [DEFAULT] TRUE : Use traditional R-square computation\n",
    "    # %            FALSE : Uses alternate R-square computation for model\n",
    "    # %                    without constant term [R2 = 1 - NORM(Y-F)/NORM(Y)]\n",
    "    # %\n",
    "    # % OUTPUT \n",
    "    # %   R2      : Coefficient of determination\n",
    "    # %   RMSE    : Root mean squared error\n",
    "    # %\n",
    "    # % EXAMPLE\n",
    "    # %   x = 0:0.1:10;\n",
    "    # %   y = 2.*x + 1 + randn(size(x));\n",
    "    # %   p = polyfit(x,y,1);\n",
    "    # %   f = polyval(p,x);\n",
    "    # %   [r2 rmse] = rsquare(y,f);\n",
    "    # %   figure; plot(x,y,'b-');\n",
    "    # %   hold on; plot(x,f,'r-');\n",
    "    # %   title(strcat(['R2 = ' num2str(r2) '; RMSE = ' num2str(rmse)]))\n",
    "    # %   \n",
    "    # % Jered R Wells\n",
    "    # % 11/17/11\n",
    "    # % jered [dot] wells [at] duke [dot] edu\n",
    "    # %\n",
    "    # % v1.2 (02/14/2012)\n",
    "    # %\n",
    "    # % Thanks to John D'Errico for useful comments and insight which has helped\n",
    "    # % to improve this code. His code POLYFITN was consulted in the inclusion of\n",
    "    # % the C-option (REF. File ID: #34765).\n",
    "\n",
    "    # By setting varargin as True by default, I think this loop is unnescessary\n",
    "    # if isempty(varargin); \n",
    "    #     c = True; \n",
    "    # elif length(varargin)>1; \n",
    "    #     error 'Too many input arguments';\n",
    "    # elif ~islogical(varargin{1}); \n",
    "    #     error 'C must be logical (TRUE||FALSE)'\n",
    "    # else: \n",
    "    #     c = varargin{1}; \n",
    "\n",
    "\n",
    "    # % Compare inputs\n",
    "    if (np.size(y) != np.size(f)):      #~all(size(y)==size(f)); \n",
    "        sys.exit('Y and F must be the same size')\n",
    "\n",
    "    # % Check for NaN\n",
    "    tmp = not (np.isnan(y) or np.isnan(f))   # ~or(isnan(y),isnan(f));\n",
    "    y = y(tmp)\n",
    "    f = f(tmp)\n",
    "\n",
    "    if c: \n",
    "        r2 = max(0, ( (1 - np.sum((y[:]-f[:])**2) ) / (np.sum( (y[:]- np.mean(y[:])**2) ) ) ))\n",
    "    else: \n",
    "        r2 = 1 - np.sum((y[:]-f[:])**2) / np.sum((y[:])**2) \n",
    "        if r2 < 0:\n",
    "        # % http://web.maths.unsw.edu.au/~adelle/Garvan/Assays/GoodnessOfFit.html\n",
    "            #warning('Consider adding a constant term to your model') #ok<WNTAG>\n",
    "            r2 = 0\n",
    "\n",
    "\n",
    "    rmse = np.sqrt( np.mean( (y[:] - f[:])**2 ) )\n",
    "\n",
    "    return r2,rmse"
   ]
  },
  {
   "cell_type": "code",
   "execution_count": 7,
   "metadata": {},
   "outputs": [],
   "source": [
    "# @title travoxmdl: I think Danny has an improved version of this...? Also seems to have some redundancy w/other programs (not sure which)\n",
    "def travoxmdl(proj,dataTrnS1,i):\n",
    "    # % proj--->x\n",
    "    # % dataTrnS1(i,1:1400)----->Y\n",
    "    # % dataTrnS1(i,1401:1750)---->Yst\n",
    "    # % i---->num of the target voxel\n",
    "    # % for a single voxels\n",
    "    p = 1400\n",
    "    q=size(proj,2);\n",
    "    Y = dataTrnS1[i,1:1400+1]\n",
    "    Ycnannum = []\n",
    "\n",
    "    for k in range(1,1400+1): #=1:1400\n",
    "        if not np.isnan(Y(k)):\n",
    "            Ycnannum = [Ycnannum,k]\n",
    "\n",
    "    Y = Y(Ycnannum)\n",
    "    X = proj\n",
    "    Xst = X[1401:1750+1,:]\n",
    "    Xst = [np.ones(350,1),Xst]\n",
    "    X = X[1:p,:]\n",
    "    h = np.zeros(q+1,1) \n",
    "    Ys = Y - np.mean(Y)\n",
    "    Ys = Ys.T\n",
    "    Xp = np.zeros(1400,q)\n",
    "\n",
    "    for j in range(1,q+1): #=1:q\n",
    "        Xp[:,j]= ( X[:,j] - np.mean(X[:,j]) ) / np.stdev(X[:,j])\n",
    "\n",
    "    Xp[np.isnan(Xp)] = 0\n",
    "    Xp =[np.ones(1400,1),Xp]\n",
    "    Xp = Xp[Ycnannum,:]   \n",
    "    h = np.zeros(q+1,1)\n",
    "    g = np.zeros(q+1,1)\n",
    "    devi = 100\n",
    "    deviaf = 99\n",
    "    devires = 100\n",
    "    deviresaf = 99\n",
    "    Yst = dataTrnS1[i,1401:1750+1]\n",
    "    count = 0\n",
    "    Ystcnannum = []\n",
    "\n",
    "    for k in range(1,350+1): #=1:350\n",
    "        if not np.isnan(Yst(k)):\n",
    "            Ystcnannum = [Ystcnannum,k]\n",
    "\n",
    "    Yst = Yst(Ystcnannum)\n",
    "    Xst = Xst[Ystcnannum,:]\n",
    "\n",
    "    while (abs(deviaf-devi)>1e-4 and abs(deviresaf-devires)>1e-4):\n",
    "        devi = deviaf\n",
    "        devires = deviresaf\n",
    "        # %h=h-0.001*g;\n",
    "        g = (Xp @ (Xp*h-Ys)) / norm(Xp @ (Xp*h-Ys) ) + 0.9*g \n",
    "            #%eraly stopping grandint descent\n",
    "        # %g=(Xp'*(Xp*h-Ys));\n",
    "        h -= 0.001*g\n",
    "        Ystp = Xst*h\n",
    "        Yrep = Xp*h\n",
    "        deviaf = np.sqrt( (Yst.T-Ystp) @ (Yst.T-Ystp) )\n",
    "        deviresaf = np.sqrt( (Ys-Yrep) @ (Ys-Yrep) )\n",
    "        count += 1\n",
    "        fprintf('num:%d devi in stop:%.4f devi set:%.4f\\n',count,deviaf,deviresaf);\n",
    "\n",
    "    h[2:end] = h[2:end] / np.stdev(X).T\n",
    "    h[isnan(h)] = 0\n",
    "\n",
    "\n",
    "    return h"
   ]
  },
  {
   "cell_type": "code",
   "execution_count": 8,
   "metadata": {},
   "outputs": [],
   "source": [
    "# @title linerreg: Needs to be updated...? liner regression function w/ early stopping gradient\n",
    "def linerreg( X,Y,Xst,Yst ):\n",
    "# %liner regression function with the early stopping gradint descent\n",
    "# %   Y=Xh...Xst,Yst is the stopping set\n",
    "    count = 0\n",
    "    p = np.size(X,0)      #size(X,1); # p here never shows up...????\n",
    "    q = np.size(X,1)      #size(X,2);\n",
    "    h = np.zeros(q,1)  # should this be (p,1)?\n",
    "    g = np.zeros(q,1)\n",
    "    RMSE = 100\n",
    "    RMSEaf = 99\n",
    "    RMSEres = 100\n",
    "    RMSEresaf = 99\n",
    "    R2 = 0\n",
    "    R2st = 0\n",
    "    while (RMSEaf<RMSE and RMSEresaf<RMSEres):\n",
    "        RMSE = RMSEaf\n",
    "        RMSEres = RMSEresaf\n",
    "        # %h=h-0.001*g;\n",
    "        g = (X@(X*h-Y)) / np.linalg.norm(X@(X*h-Y)) + 0.9*g #%eraly stopping grandint descent\n",
    "        # %g=(X'*(X*h-Y));\n",
    "        h = h - 0.001 * g\n",
    "        Ystp = Xst * h\n",
    "        Yrep = X * h\n",
    "        [R2,RMSEaf]=rsquare(Yst,Ystp)\n",
    "        [R2st,RMSEresaf]=rsquare(Y,Yrep)\n",
    "        count += 1\n",
    "        if count > 1500:\n",
    "            break\n",
    "\n",
    "    # %fprintf('num:%d devist:%.4f devi :%.4f R2:%.4f R2st:%.4f\\n',count,RMSEaf,RMSEresaf,R2,R2st);%display the num&devi\n",
    "\n",
    "    return [ h,RMSEaf,RMSEresaf,R2,R2st,count ]"
   ]
  },
  {
   "cell_type": "code",
   "execution_count": 47,
   "metadata": {},
   "outputs": [],
   "source": [
    "# @title inittrain: calls linerreg, goes voxel-by-voxel. Does the training...?\n",
    "def inittrain(proj,dataTrnS1,i):\n",
    "    # %UNTITLED Summary of this function goes here\n",
    "    # % proj--->x\n",
    "    # % dataTrnS1(i,1:1400)----->Y\n",
    "    # % dataTrnS1(i,1401:1750)---->Yst\n",
    "    # % i---->num of the target voxel\n",
    "    # % for a single voxels\n",
    "    p = 1550\n",
    "    q = np.size(proj,1) #size(proj,2);\n",
    "    Y = dataTrnS1[i,1:p]\n",
    "    Ycnannum = []\n",
    "\n",
    "    #for k in range(0,p):\n",
    "    #    if not np.isnan(Y[k]): #~isnan(Y(k))\n",
    "    #        Ycnannum = [Ycnannum,k] #% figure out the nan element\n",
    "\n",
    "    #Y = Y(Ycnannum) #%exclude the nan element\n",
    "    X = proj \n",
    "    Xst = X[(p+1):(np.size(proj,0)+1),:]\n",
    "    Xst = [np.ones((np.size(proj,1)-p,1)),Xst]\n",
    "    X = X[1:p,:]\n",
    "    h = np.zeros((q+1,1))\n",
    "    Ys = Y - np.mean(Y)\n",
    "    Ys = Ys.T\n",
    "    Xp = np.zeros((p,q))\n",
    "\n",
    "    for j in range (1,q+1): #=1:q\n",
    "        Xp[:,j] = (X[:,j] - np.mean(X[:,j]) ) / np.std(X[:,j])\n",
    "\n",
    "    Xp[np.isnan(Xp)] = 0\n",
    "    Xp = [np.ones(p,1),Xp]\n",
    "    Xp = Xp[Ycnannum,:]   \n",
    "    Yst = dataTrnS1[i, (p+1):size(proj,1)]\n",
    "    Ystcnannum = []\n",
    "\n",
    "    for k in range(1,np.size(proj,0)-p+1):  #=1:size(proj,1)-p\n",
    "        if not np.isnan(Yst(k)):\n",
    "            Ystcnannum = [Ystcnannum,k]\n",
    "\n",
    "    Yst = Yst(Ystcnannum).T\n",
    "    Xst = Xst[Ystcnannum,:]\n",
    "    h,RMSEaf,RMSEresaf,R2,R2st,count = linerreg(Xp,Ys,Xst,Yst) #% liner regression function\n",
    "    # %fprintf('num:%d devist:%.4f devi :%.4f R2:%.4f R2st:%.4f\\n',count,RMSEaf,RMSEresaf,R2,R2st);\n",
    "    h[2:end] /= np.std(X)                 # h(2:end)=h(2:end)./std(X)';\n",
    "    h[np.isnan(h)] = 0\n",
    "\n",
    "    return [ h,RMSEaf,RMSEresaf,R2,R2st,count ]"
   ]
  },
  {
   "cell_type": "code",
   "execution_count": 80,
   "metadata": {},
   "outputs": [],
   "source": [
    "X_small = np.load(\"proj_small.npy\")\n",
    "X_test = X_small[4]\n",
    "X_small = X_small[:4]"
   ]
  },
  {
   "cell_type": "code",
   "execution_count": 81,
   "metadata": {
    "scrolled": true
   },
   "outputs": [],
   "source": [
    "Y_small = dat[\"responses\"][:4]\n",
    "Y_test = dat[\"responses\"][4]"
   ]
  },
  {
   "cell_type": "code",
   "execution_count": 82,
   "metadata": {},
   "outputs": [
    {
     "name": "stdout",
     "output_type": "stream",
     "text": [
      "X shape:  (4, 2728)\n",
      "Y shape:  (4, 8428)\n",
      "X_test shape:  (2728,)\n",
      "Y_test shape:  (8428,)\n"
     ]
    }
   ],
   "source": [
    "print(\"X shape: \", X_small.shape)\n",
    "print(\"Y shape: \", Y_small.shape)\n",
    "\n",
    "print(\"X_test shape: \", X_test.shape)\n",
    "print(\"Y_test shape: \", Y_test.shape)"
   ]
  },
  {
   "cell_type": "code",
   "execution_count": 97,
   "metadata": {},
   "outputs": [
    {
     "name": "stdout",
     "output_type": "stream",
     "text": [
      "(4,)\n",
      "[0. 0. 0. ... 0. 0. 0.]\n"
     ]
    }
   ],
   "source": [
    "print(Y_small[:,0].shape)\n",
    "\n",
    "coef_init = np.zeros(X_small.shape[1])\n",
    "print(coef_init)"
   ]
  },
  {
   "cell_type": "code",
   "execution_count": 104,
   "metadata": {},
   "outputs": [
    {
     "data": {
      "text/plain": [
       "SGDRegressor(alpha=0.0001, average=False, early_stopping=False, epsilon=0.1,\n",
       "             eta0=0.01, fit_intercept=True, l1_ratio=0.15,\n",
       "             learning_rate='invscaling', loss='squared_loss', max_iter=100,\n",
       "             n_iter_no_change=5, penalty='l2', power_t=0.25, random_state=None,\n",
       "             shuffle=True, tol=0.001, validation_fraction=0.1, verbose=0,\n",
       "             warm_start=False)"
      ]
     },
     "execution_count": 104,
     "metadata": {},
     "output_type": "execute_result"
    }
   ],
   "source": [
    "from sklearn.linear_model import SGDRegressor\n",
    "\n",
    "reg = SGDRegressor(max_iter=100, tol=1e-3)\n",
    "reg.fit(X_small, Y_small[:,0], coef_init = coef_init)"
   ]
  },
  {
   "cell_type": "code",
   "execution_count": 105,
   "metadata": {},
   "outputs": [
    {
     "name": "stdout",
     "output_type": "stream",
     "text": [
      "(2728,)\n",
      "15979047042.004503\n"
     ]
    }
   ],
   "source": [
    "thetas = reg.coef_\n",
    "print(thetas.shape)\n",
    "print(thetas[0])"
   ]
  },
  {
   "cell_type": "code",
   "execution_count": 106,
   "metadata": {},
   "outputs": [
    {
     "name": "stdout",
     "output_type": "stream",
     "text": [
      "-2096123034400.916\n"
     ]
    }
   ],
   "source": [
    "Y_hat = X_test.T @ thetas\n",
    "print(Y_hat)"
   ]
  },
  {
   "cell_type": "code",
   "execution_count": 107,
   "metadata": {},
   "outputs": [
    {
     "name": "stdout",
     "output_type": "stream",
     "text": [
      "0.8427713325267792\n"
     ]
    }
   ],
   "source": [
    "print(Y_test[0])"
   ]
  },
  {
   "cell_type": "code",
   "execution_count": null,
   "metadata": {},
   "outputs": [],
   "source": []
  }
 ],
 "metadata": {
  "kernelspec": {
   "display_name": "Python 3",
   "language": "python",
   "name": "python3"
  },
  "language_info": {
   "codemirror_mode": {
    "name": "ipython",
    "version": 3
   },
   "file_extension": ".py",
   "mimetype": "text/x-python",
   "name": "python",
   "nbconvert_exporter": "python",
   "pygments_lexer": "ipython3",
   "version": "3.7.6"
  }
 },
 "nbformat": 4,
 "nbformat_minor": 4
}
