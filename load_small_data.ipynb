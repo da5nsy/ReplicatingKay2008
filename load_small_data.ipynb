{
  "nbformat": 4,
  "nbformat_minor": 0,
  "metadata": {
    "colab": {
      "name": "load_small_data.ipynb",
      "provenance": [],
      "authorship_tag": "ABX9TyP3qWWMlih289OJ9g+T6TPg",
      "include_colab_link": true
    },
    "kernelspec": {
      "name": "python3",
      "display_name": "Python 3"
    }
  },
  "cells": [
    {
      "cell_type": "markdown",
      "metadata": {
        "id": "view-in-github",
        "colab_type": "text"
      },
      "source": [
        "<a href=\"https://colab.research.google.com/github/da5nsy/ReplicatingKay2008/blob/master/load_small_data.ipynb\" target=\"_parent\"><img src=\"https://colab.research.google.com/assets/colab-badge.svg\" alt=\"Open In Colab\"/></a>"
      ]
    },
    {
      "cell_type": "code",
      "metadata": {
        "id": "EEWUj_jaFqqK",
        "colab_type": "code",
        "colab": {}
      },
      "source": [
        "from google.colab import files\n",
        "import numpy as np\n",
        "import matplotlib.pyplot as plt\n",
        "\n",
        "files.upload()\n",
        "proj_small = np.load('proj_small.npy')"
      ],
      "execution_count": null,
      "outputs": []
    },
    {
      "cell_type": "code",
      "metadata": {
        "id": "nt-kMvwdGE4Y",
        "colab_type": "code",
        "colab": {}
      },
      "source": [
        "print(proj_small)"
      ],
      "execution_count": null,
      "outputs": []
    },
    {
      "cell_type": "code",
      "metadata": {
        "id": "VNC-51BGGKMr",
        "colab_type": "code",
        "colab": {}
      },
      "source": [
        "plt.plot(proj_small[0,:])"
      ],
      "execution_count": null,
      "outputs": []
    },
    {
      "cell_type": "code",
      "metadata": {
        "id": "UoTvKYxfGYVo",
        "colab_type": "code",
        "colab": {}
      },
      "source": [
        "proj_small.shape"
      ],
      "execution_count": null,
      "outputs": []
    }
  ]
}