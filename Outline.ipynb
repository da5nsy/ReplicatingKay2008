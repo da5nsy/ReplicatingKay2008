{
  "nbformat": 4,
  "nbformat_minor": 0,
  "metadata": {
    "colab": {
      "name": "Outline.ipynb",
      "provenance": [],
      "include_colab_link": true
    },
    "kernelspec": {
      "name": "python3",
      "display_name": "Python 3"
    }
  },
  "cells": [
    {
      "cell_type": "markdown",
      "metadata": {
        "id": "view-in-github",
        "colab_type": "text"
      },
      "source": [
        "<a href=\"https://colab.research.google.com/github/da5nsy/ReplicatingKay2008/blob/master/Outline.ipynb\" target=\"_parent\"><img src=\"https://colab.research.google.com/assets/colab-badge.svg\" alt=\"Open In Colab\"/></a>"
      ]
    },
    {
      "cell_type": "code",
      "metadata": {
        "id": "3eNSSS5yVo6J",
        "colab_type": "code",
        "colab": {}
      },
      "source": [
        ""
      ],
      "execution_count": null,
      "outputs": []
    },
    {
      "cell_type": "markdown",
      "metadata": {
        "id": "WPQblmIlVr8x",
        "colab_type": "text"
      },
      "source": [
        "- Load data\n",
        "  - fMRI train\n",
        "  - Images\n",
        "  - (fMRI test)\n",
        "\n",
        "- Build/Fit model model\n",
        "  - Receptive field estimation\n",
        "  - Gabors\n",
        "    - Generating gabors\n",
        "    - Projecting images into gabor space\n",
        "  - Combine quadrature pairs (we have an input - yay!)\n",
        "  - Normalise x and whatever\n",
        "  - Perform gradient descent (training)\n",
        "\n",
        "- Test model\n",
        "\n",
        "- Visualise results\n",
        "\n"
      ]
    },
    {
      "cell_type": "code",
      "metadata": {
        "id": "aonUWdD0_sjt",
        "colab_type": "code",
        "colab": {
          "base_uri": "https://localhost:8080/",
          "height": 288
        },
        "outputId": "113787d1-27ba-45ca-d51d-a7d9006a2810"
      },
      "source": [
        "# Testing gabor_kernal\n",
        "\n",
        "from skimage.filters import gabor_kernel\n",
        "import numpy as np\n",
        "import matplotlib.pyplot as plt\n",
        "\n",
        "frequency = 0.05\n",
        "theta = 0\n",
        "sigma = 20\n",
        "n_stds = 4\n",
        "\n",
        "kernel = np.real(gabor_kernel(frequency, theta=theta,sigma_x=sigma, sigma_y=sigma, n_stds=n_stds))\n",
        "\n",
        "plt.imshow(kernel)\n"
      ],
      "execution_count": 3,
      "outputs": [
        {
          "output_type": "execute_result",
          "data": {
            "text/plain": [
              "<matplotlib.image.AxesImage at 0x7f2df5bab240>"
            ]
          },
          "metadata": {
            "tags": []
          },
          "execution_count": 3
        },
        {
          "output_type": "display_data",
          "data": {
            "image/png": "[encoded data removed]",
            "text/plain": [
              "<Figure size 432x288 with 1 Axes>"
            ]
          },
          "metadata": {
            "tags": [],
            "needs_background": "light"
          }
        }
      ]
    },
    {
      "cell_type": "code",
      "metadata": {
        "id": "_3Z-bzwEvXid",
        "colab_type": "code",
        "colab": {}
      },
      "source": [
        "# Working out how to get the gabors we need\n",
        "\n",
        "def my_gabor(f,FOV=100,theta=0,offset):\n",
        "  frequency = np.array([# the paper lists this as frequency \n",
        "  theta = 0\n",
        "  sigma = 20\n",
        "  n_stds = 4\n",
        "\n",
        "  # circular thresholding - find the percentage from the paper\n",
        "\n",
        "\n",
        "  gabor = np.real(gabor_kernel(frequency, theta=theta, sigma_x=sigma, sigma_y=sigma, n_stds=n_stds, offset=offset))\n",
        "\n",
        "\n",
        "\n",
        "  # crop/pad with zeros, using FOV (specificed in pixels) to give uniform pixel dimensions\n",
        "  # this will be based on location\n",
        "  # I think we'll need to run this function once per spatial frequency\n",
        " \n",
        "  oversizedOutput = np.zeros([FOV*10,FOV*10]) # set up the output image. I don't know what factor is needed, 10 is probably overkill and a half\n",
        "\n",
        "  # if frequnecy is 1, do nothing (just crop)\n",
        "  # if frequency is 2, I want 4 version, once centered on the bottom left quadrant, one on the lower right, upper l, upper r\n",
        "\n",
        "  quadrants = frequency**2\n",
        "  for q in quandrants:\n",
        "    \n",
        "\n",
        "\n",
        "\n",
        "  return gabor\n",
        "\n",
        "freqs = np.array([1,2,4,8,16]) #frequencies, supfig2\n",
        "oris = (np.pi/180) * np.array([0,22.5,45,67.5,90,112.5,135,157.5]) # 8 orientations, supfig2\n",
        "ph = [0,np.pi] # 2 phases\n",
        "\n",
        "# initialise gabor\n",
        "for f in freqs:\n",
        "  for or in oris:\n",
        "    for ph is phases\n",
        "      my_gabor(f) #needs appending\n",
        "\n",
        "\n",
        "# subplot the gabors\n",
        "\n"
      ],
      "execution_count": null,
      "outputs": []
    },
    {
      "cell_type": "code",
      "metadata": {
        "id": "HRkqImpdHVO1",
        "colab_type": "code",
        "colab": {}
      },
      "source": [
        "#Subtract mean from y to get y_tilda\n",
        "#y_tilda = y - np.mean(y)\n",
        "\n",
        "#Normalize X\n",
        "#X_tilda = (X - np.mean(X)) / np.std(X)\n",
        "\n",
        "#Initialize learning rate (eps) and momentum (alph)\n",
        "eps = 0.001 #lr of 0.001 from supp materials\n",
        "alph = 0.9 #momentum of 0.9 from supp materials \n",
        "\n",
        "#Manually setting max_iter right now just because not \n",
        "#super familiar with how to do early stopping\n",
        "iteration = 0\n",
        "max_iter = 499\n",
        "\n",
        "#Initialize kernel weights as 0\n",
        "h = np.zeros(size = (SIZE OF INPUT CHANNEL, 1))\n",
        "\n",
        "#Update kernel with gradient descent\n",
        "while iteration <= max_iter:\n",
        "    \n",
        "    #Compute error gradient g \n",
        "    error = np.dot(X_tilda, h) - y_tilda\n",
        "    g = np.dot(X_tilda.T, error) + (alph * g)\n",
        "    \n",
        "    #Update kernel with error gradient\n",
        "    h -= eps * g\n",
        "    \n",
        "    iteration += 1"
      ],
      "execution_count": null,
      "outputs": []
    }
  ]
}