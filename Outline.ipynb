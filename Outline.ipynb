{
  "nbformat": 4,
  "nbformat_minor": 0,
  "metadata": {
    "colab": {
      "name": "Outline.ipynb",
      "provenance": [],
      "authorship_tag": "ABX9TyNfu4ksBsJrAIxLLtKglHhU",
      "include_colab_link": true
    },
    "kernelspec": {
      "name": "python3",
      "display_name": "Python 3"
    }
  },
  "cells": [
    {
      "cell_type": "markdown",
      "metadata": {
        "id": "view-in-github",
        "colab_type": "text"
      },
      "source": [
        "<a href=\"https://colab.research.google.com/github/da5nsy/ReplicatingKay2008/blob/master/Outline.ipynb\" target=\"_parent\"><img src=\"https://colab.research.google.com/assets/colab-badge.svg\" alt=\"Open In Colab\"/></a>"
      ]
    },
    {
      "cell_type": "code",
      "metadata": {
        "id": "3eNSSS5yVo6J",
        "colab_type": "code",
        "colab": {}
      },
      "source": [
        ""
      ],
      "execution_count": null,
      "outputs": []
    },
    {
      "cell_type": "markdown",
      "metadata": {
        "id": "WPQblmIlVr8x",
        "colab_type": "text"
      },
      "source": [
        "- Load data\n",
        "  - fMRI train\n",
        "  - Images\n",
        "  - (fMRI test)\n",
        "\n",
        "- Build model\n",
        "  - Generating gabors\n",
        "  - Projecting images into gabor space\n",
        "  - ...\n",
        "\n",
        "- Fit model\n",
        "\n",
        "- Test model\n",
        "\n",
        "- Visualise results\n",
        "\n"
      ]
    }
  ]
}