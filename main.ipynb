{
  "nbformat": 4,
  "nbformat_minor": 0,
  "metadata": {
    "colab": {
      "name": "main.ipynb",
      "provenance": [],
      "authorship_tag": "ABX9TyPU+tuv+ZUWL3zHujZ1sJ2O",
      "include_colab_link": true
    },
    "kernelspec": {
      "name": "python3",
      "display_name": "Python 3"
    }
  },
  "cells": [
    {
      "cell_type": "markdown",
      "metadata": {
        "id": "view-in-github",
        "colab_type": "text"
      },
      "source": [
        "<a href=\"https://colab.research.google.com/github/da5nsy/ReplicatingKay2008/blob/master/main.ipynb\" target=\"_parent\"><img src=\"https://colab.research.google.com/assets/colab-badge.svg\" alt=\"Open In Colab\"/></a>"
      ]
    },
    {
      "cell_type": "markdown",
      "metadata": {
        "id": "xXBqHMGsPzja",
        "colab_type": "text"
      },
      "source": [
        "### Pre-flight"
      ]
    },
    {
      "cell_type": "code",
      "metadata": {
        "id": "oY5SazvTLnsL",
        "colab_type": "code",
        "cellView": "form",
        "colab": {}
      },
      "source": [
        "# @title Load libraries \n",
        "\n",
        "import os\n",
        "import numpy as np\n",
        "import matplotlib.pyplot as plt\n",
        "from IPython.display import HTML, display\n",
        "import time\n",
        "\n",
        "# Progress bar\n",
        "# Source code: https://stackoverflow.com/a/46939639/6464224\n",
        "def progress(value, max=100):\n",
        "    return HTML(\"\"\"\n",
        "        <progress\n",
        "            value='{value}'\n",
        "            max='{max}',\n",
        "            style='width: 100%'\n",
        "        >\n",
        "            {value}\n",
        "        </progress>\n",
        "    \"\"\".format(value=value, max=max))"
      ],
      "execution_count": 1,
      "outputs": []
    },
    {
      "cell_type": "code",
      "metadata": {
        "id": "sw9tu1ZeLsSF",
        "colab_type": "code",
        "cellView": "form",
        "colab": {}
      },
      "source": [
        "# @title Load data \n",
        "\n",
        "# Source code: https://github.com/NeuromatchAcademy/course-content/blob/9f1fd9aafb65feec583703973c9edf0535d8a62e/projects/load_kay_images.ipynb\n",
        "\n",
        "fname = \"kay_images.npz\"\n",
        "if not os.path.exists(fname):\n",
        "  !wget -qO $fname https://osf.io/ymnjv/download\n",
        "\n",
        "with np.load(fname) as dobj:\n",
        "  dat = dict(**dobj)"
      ],
      "execution_count": 2,
      "outputs": []
    },
    {
      "cell_type": "markdown",
      "metadata": {
        "id": "tXBXVuVxP8Sk",
        "colab_type": "text"
      },
      "source": [
        "### Generate gabors, and project images into gabor space"
      ]
    },
    {
      "cell_type": "code",
      "metadata": {
        "id": "oZsO9fRAL8J5",
        "colab_type": "code",
        "cellView": "form",
        "colab": {}
      },
      "source": [
        "# @title Define gabor functions\n",
        "\n",
        "def gabor_fn(theta,lmbda,psi,gamma,x0=0,y0=0):\n",
        "# % produce a gabor wavelet for the given sf,angle,phase,posi\n",
        "# gamma does not seem to be used - it is always 1\n",
        "\n",
        "    sigma = lmbda / 2\n",
        "    sigma_x = sigma\n",
        "    sigma_y = sigma / gamma\n",
        "    # % Bounding box\n",
        "\n",
        "    # %[x,y] = meshgrid(xmin:xmax,ymin:ymax);\n",
        "    ygrid = range(-63,65)\n",
        "    xgrid = range(-63,65)\n",
        "    x, y = np.meshgrid(xgrid,ygrid)             #-63:64,-63:64);\n",
        "    # % Rotation\n",
        "    theta = np.deg2rad(theta) \n",
        "    psi = np.deg2rad(psi)\n",
        "    x = x - x0\n",
        "    y = y - y0\n",
        "    x_theta = x * np.cos(theta) + y * np.sin(theta)\n",
        "    y_theta = -x * np.sin(theta) + y * np.cos(theta)\n",
        "\n",
        "    gaussian_mask = np.exp(-.5*(x_theta**2/sigma_x**2+y_theta**2/sigma_y**2))\n",
        "    gaussian_mask[gaussian_mask < (np.max(gaussian_mask)*0.01)] = 0\n",
        "\n",
        "    sinusoid = np.cos(2*np.pi/lmbda*x_theta+psi);\n",
        "\n",
        "    gb = gaussian_mask * sinusoid;\n",
        "\n",
        "    return gb\n",
        "\n",
        "def gaborfit():\n",
        "# % produce a set of gabor wavelet directly\n",
        "\n",
        "    out = display(progress(0, 100), display_id=True) #generate waitbar\n",
        "\n",
        "    ang_rang = [0, 22.5000, 45.0000, 67.5000, 90.0000, 112.5000, 135.0000, 157.5000]\n",
        "    gab = np.zeros([128,128,5456])\n",
        "    count = 0\n",
        "    for i in range(1,6): #=1:5\n",
        "        FOV = 2**(i-1) #convoluted way to get [1,2,4,8,16]\n",
        "        '''\n",
        "        Spatial frequency tuning - goes through 1-5, producing FOV = 1,2,4,8,16\n",
        "        '''\n",
        "        lmbda = 128 / FOV # [128,64,32,16,8]\n",
        "        if FOV == 1:\n",
        "            x0 = 0 \n",
        "            y0 = 0 \n",
        "        elif FOV == 2:\n",
        "            x0 = -32\n",
        "            y0 = -32\n",
        "        elif FOV == 4:\n",
        "            x0 = -48\n",
        "            y0 = -48\n",
        "        elif FOV == 8:\n",
        "            x0 = -56 \n",
        "            y0 = -56 \n",
        "        elif FOV == 16:\n",
        "            x0 = -60 \n",
        "            y0 = -60 \n",
        "\n",
        "        for angle in ang_rang: #range(0,7*22.5+1,22.5)\n",
        "            for j in range(FOV): #=0:FOV-1:\n",
        "                for k in range(FOV): #=0:FOV-1:\n",
        "                    gab[:,:,count] = gabor_fn(angle, lmbda, 0, 1, x0+j*lmbda, y0+k*lmbda);\n",
        "                    count += 1\n",
        "                    gab[:,:,count] = gabor_fn(angle, lmbda, 180, 1, x0+j*lmbda, y0+k*lmbda);\n",
        "                    count += 1\n",
        "                    if count % 20 == 0: \n",
        "                      out.update(progress(count, 5456)) # update waitbar\n",
        "    out.update(progress(count, 5456)) # update waitbar\n",
        "    return gab"
      ],
      "execution_count": 3,
      "outputs": []
    },
    {
      "cell_type": "code",
      "metadata": {
        "id": "i7qYW0eTN1XX",
        "colab_type": "code",
        "colab": {
          "base_uri": "https://localhost:8080/",
          "height": 54
        },
        "outputId": "5dda14ad-f451-4185-8c68-ce5ffacdf67a"
      },
      "source": [
        "gabor_wavelet_pyramid = gaborfit()\n",
        "\n",
        "np.dstack((gabor_wavelet_pyramid, np.ones((128,128)))); # add dc offset\n",
        "np.dstack((gabor_wavelet_pyramid, -np.ones((128,128))));"
      ],
      "execution_count": 5,
      "outputs": [
        {
          "output_type": "display_data",
          "data": {
            "text/html": [
              "\n",
              "        <progress\n",
              "            value='5456'\n",
              "            max='5456',\n",
              "            style='width: 100%'\n",
              "        >\n",
              "            5456\n",
              "        </progress>\n",
              "    "
            ],
            "text/plain": [
              "<IPython.core.display.HTML object>"
            ]
          },
          "metadata": {
            "tags": []
          }
        }
      ]
    },
    {
      "cell_type": "code",
      "metadata": {
        "id": "Afuy9DvfPHWW",
        "colab_type": "code",
        "cellView": "form",
        "colab": {
          "base_uri": "https://localhost:8080/",
          "height": 93
        },
        "outputId": "2ee17895-5acf-4c6a-83e3-019e0bc2b3ad"
      },
      "source": [
        "# @title Visualize a sample of gabors (optional)\n",
        "# Replicating sup figure 2\n",
        "\n",
        "\n",
        "fig, axs = plt.subplots(1,5)\n",
        "fig.subplots_adjust(wspace=.1)\n",
        "\n",
        "\n",
        "idx = [4,34,156,648,2590] # only done by eye - might not be precisely correct values\n",
        "\n",
        "for i in range(len(axs)):\n",
        "  axs[i].imshow(gabor_wavelet_pyramid[:,:,idx[i]]);\n",
        "  axs[i].axis('off')"
      ],
      "execution_count": 6,
      "outputs": [
        {
          "output_type": "display_data",
          "data": {
            "image/png": "[encoded data removed]",
            "text/plain": [
              "<Figure size 432x288 with 5 Axes>"
            ]
          },
          "metadata": {
            "tags": [],
            "needs_background": "light"
          }
        }
      ]
    },
    {
      "cell_type": "code",
      "metadata": {
        "id": "M26XY0FSPW5Y",
        "colab_type": "code",
        "colab": {},
        "cellView": "form"
      },
      "source": [
        "# @title Project images into gabor space (original version - takes roughly 2 hours)\n",
        "\n",
        "t = time.time()\n",
        "out = display(progress(0, 100), display_id=True) #generate waitbar\n",
        "\n",
        "proj = np.zeros((len(dat[\"stimuli\"]),gabor_wavelet_pyramid.shape[2]//2))\n",
        "\n",
        "for i in range(len(dat[\"stimuli\"])): #training images \n",
        "  for j in range(0,gabor_wavelet_pyramid.shape[2],2):\n",
        "    a = dat[\"stimuli\"][i].reshape(-1)\n",
        "    b = gabor_wavelet_pyramid[:,:,j].reshape(-1)\n",
        "    c = gabor_wavelet_pyramid[:,:,j+1].reshape(-1)\n",
        "    t1 = (a@b)/np.sqrt(b.T@b)\n",
        "    t2 = (a@c)/np.sqrt(c.T@c)\n",
        "    proj[i,(j+1)//2] = np.sqrt((t1**2)+(t2**2))\n",
        "    # proj[i,(j+1)//2] = t1+t2 # the above means that we only ever get out positive weights, which doesn't feel right. Testing this version instead.\n",
        "\n",
        "  out.update(progress(i, len(dat[\"stimuli\"])-1)) # update waitbar\n",
        "\n",
        "elapsed = time.time() - t\n",
        "print('Time elapsed:', elapsed)\n"
      ],
      "execution_count": null,
      "outputs": []
    },
    {
      "cell_type": "code",
      "metadata": {
        "id": "w5VVDBW0G_Cx",
        "colab_type": "code",
        "colab": {},
        "cellView": "form"
      },
      "source": [
        "# @title Project images into gabor space (vectorized version - time unknown)\n",
        "t = time.time()\n",
        "image_lib = dat[\"stimuli\"].reshape(dat[\"stimuli\"].shape[0], -1)\n",
        "gabor_lib = np.moveaxis(gabor_wavelet_pyramid, -1, 0)\n",
        "gabor_lib = gabor_lib.reshape(gabor_lib.shape[0], -1)\n",
        "\n",
        "num_images = image_lib.shape[0] # can be any number\n",
        "num_gabors = gabor_lib.shape[0] # should be even number since gabors are pairs\n",
        "\n",
        "image_lib = image_lib[:num_images, :]\n",
        "gabor_lib = gabor_lib[:num_gabors, :]\n",
        "\n",
        "gabor_lib_000_phase = gabor_lib[::2, :]\n",
        "gabor_lib_180_phase = gabor_lib[1::2, :]\n",
        "gabor_lib_000_phase_norm = np.sqrt(np.sum(gabor_lib_000_phase ** 2, axis=1)).reshape(1, -1)\n",
        "gabor_lib_180_phase_norm = np.sqrt(np.sum(gabor_lib_180_phase ** 2, axis=1)).reshape(1, -1)\n",
        "\n",
        "t1 = ( image_lib @ gabor_lib_000_phase.T ) / gabor_lib_000_phase_norm\n",
        "t2 = ( image_lib @ gabor_lib_180_phase.T ) / gabor_lib_180_phase_norm\n",
        "\n",
        "proj = np.sqrt((t1**2)+(t2**2))\n",
        "\n",
        "elapsed = time.time() - t\n",
        "print('Time elapsed:', elapsed)"
      ],
      "execution_count": null,
      "outputs": []
    },
    {
      "cell_type": "code",
      "metadata": {
        "id": "HSxQ-PAeUfNs",
        "colab_type": "code",
        "cellView": "form",
        "colab": {}
      },
      "source": [
        "# @title Save projection file\n",
        "np.save('proj.npy',proj)"
      ],
      "execution_count": 59,
      "outputs": []
    },
    {
      "cell_type": "code",
      "metadata": {
        "id": "yShbyxgfrGOw",
        "colab_type": "code",
        "colab": {
          "resources": {
            "http://localhost:8080/nbextensions/google.colab/files.js": {
              "data": "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",
              "ok": true,
              "headers": [
                [
                  "content-type",
                  "application/javascript"
                ]
              ],
              "status": 200,
              "status_text": "OK"
            }
          },
          "base_uri": "https://localhost:8080/",
          "height": 72
        },
        "cellView": "form",
        "outputId": "89f60fb4-d65b-4d02-e77f-2f52873e23ed"
      },
      "source": [
        "# @title Load gabor-space images (avoiding running the above code)\n",
        "\n",
        "from google.colab import files\n",
        "\n",
        "# download to local from https://github.com/da5nsy/ReplicatingKay2008/blob/master/datafiles/proj.npy\n",
        "# there must be a way to do this directly but we don't know it (wget?)\n",
        "files.upload()\n",
        "proj = np.load('proj.npy')"
      ],
      "execution_count": 7,
      "outputs": [
        {
          "output_type": "display_data",
          "data": {
            "text/html": [
              "\n",
              "     <input type=\"file\" id=\"files-5656953c-c751-49a5-845e-e410e1e5cc45\" name=\"files[]\" multiple disabled\n",
              "        style=\"border:none\" />\n",
              "     <output id=\"result-5656953c-c751-49a5-845e-e410e1e5cc45\">\n",
              "      Upload widget is only available when the cell has been executed in the\n",
              "      current browser session. Please rerun this cell to enable.\n",
              "      </output>\n",
              "      <script src=\"/nbextensions/google.colab/files.js\"></script> "
            ],
            "text/plain": [
              "<IPython.core.display.HTML object>"
            ]
          },
          "metadata": {
            "tags": []
          }
        },
        {
          "output_type": "stream",
          "text": [
            "Saving proj.npy to proj.npy\n"
          ],
          "name": "stdout"
        }
      ]
    },
    {
      "cell_type": "code",
      "metadata": {
        "id": "Dk1e56cgsWS6",
        "colab_type": "code",
        "colab": {
          "base_uri": "https://localhost:8080/",
          "height": 276
        },
        "outputId": "66567595-9e26-4cbd-c662-09cc7f74fc68"
      },
      "source": [
        "# Visualize projection data\n",
        "\n",
        "plt.hist(np.concatenate(proj),bins=100);"
      ],
      "execution_count": 9,
      "outputs": [
        {
          "output_type": "display_data",
          "data": {
            "image/png": "[encoded data removed]",
            "text/plain": [
              "<Figure size 432x288 with 1 Axes>"
            ]
          },
          "metadata": {
            "tags": [],
            "needs_background": "light"
          }
        }
      ]
    },
    {
      "cell_type": "code",
      "metadata": {
        "id": "luFA3sB7XWN0",
        "colab_type": "code",
        "colab": {}
      },
      "source": [
        ""
      ],
      "execution_count": null,
      "outputs": []
    }
  ]
}