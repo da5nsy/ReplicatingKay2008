{
  "nbformat": 4,
  "nbformat_minor": 0,
  "metadata": {
    "colab": {
      "name": "main.ipynb",
      "provenance": [],
      "toc_visible": true,
      "authorship_tag": "ABX9TyOg1fr/hs+EtddAoXZItnrX",
      "include_colab_link": true
    },
    "kernelspec": {
      "name": "python3",
      "display_name": "Python 3"
    }
  },
  "cells": [
    {
      "cell_type": "markdown",
      "metadata": {
        "id": "view-in-github",
        "colab_type": "text"
      },
      "source": [
        "<a href=\"https://colab.research.google.com/github/da5nsy/ReplicatingKay2008/blob/master/main.ipynb\" target=\"_parent\"><img src=\"https://colab.research.google.com/assets/colab-badge.svg\" alt=\"Open In Colab\"/></a>"
      ]
    },
    {
      "cell_type": "markdown",
      "metadata": {
        "id": "xXBqHMGsPzja",
        "colab_type": "text"
      },
      "source": [
        "### Pre-flight"
      ]
    },
    {
      "cell_type": "code",
      "metadata": {
        "id": "oY5SazvTLnsL",
        "colab_type": "code",
        "cellView": "form",
        "colab": {}
      },
      "source": [
        "# @title Load libraries \n",
        "\n",
        "import os\n",
        "import numpy as np\n",
        "import matplotlib.pyplot as plt\n",
        "from IPython.display import HTML, display\n",
        "import time\n",
        "\n",
        "# Progress bar\n",
        "# Source code: https://stackoverflow.com/a/46939639/6464224\n",
        "def progress(value, max=100):\n",
        "    return HTML(\"\"\"\n",
        "        <progress\n",
        "            value='{value}'\n",
        "            max='{max}',\n",
        "            style='width: 100%'\n",
        "        >\n",
        "            {value}\n",
        "        </progress>\n",
        "    \"\"\".format(value=value, max=max))"
      ],
      "execution_count": 1,
      "outputs": []
    },
    {
      "cell_type": "code",
      "metadata": {
        "id": "sw9tu1ZeLsSF",
        "colab_type": "code",
        "cellView": "both",
        "colab": {}
      },
      "source": [
        "# @title Load experimental data \n",
        "\n",
        "# Source code: https://github.com/NeuromatchAcademy/course-content/blob/9f1fd9aafb65feec583703973c9edf0535d8a62e/projects/load_kay_images.ipynb\n",
        "\n",
        "fname = \"kay_images.npz\"\n",
        "if not os.path.exists(fname):\n",
        "  !wget -qO $fname https://osf.io/ymnjv/download\n",
        "\n",
        "with np.load(fname) as dobj:\n",
        "  dat = dict(**dobj)"
      ],
      "execution_count": 2,
      "outputs": []
    },
    {
      "cell_type": "markdown",
      "metadata": {
        "id": "tXBXVuVxP8Sk",
        "colab_type": "text"
      },
      "source": [
        "### Generate gabors"
      ]
    },
    {
      "cell_type": "code",
      "metadata": {
        "id": "oZsO9fRAL8J5",
        "colab_type": "code",
        "cellView": "form",
        "colab": {}
      },
      "source": [
        "# @title Define gabor functions\n",
        "\n",
        "def gabor_fn(theta,lmbda,psi,gamma,x0=0,y0=0):\n",
        "# % produce a gabor wavelet for the given sf,angle,phase,posi\n",
        "# gamma does not seem to be used - it is always 1\n",
        "\n",
        "    sigma = lmbda / 2\n",
        "    sigma_x = sigma\n",
        "    sigma_y = sigma / gamma\n",
        "    # % Bounding box\n",
        "\n",
        "    # %[x,y] = meshgrid(xmin:xmax,ymin:ymax);\n",
        "    ygrid = range(-63,65)\n",
        "    xgrid = range(-63,65)\n",
        "    x, y = np.meshgrid(xgrid,ygrid)             #-63:64,-63:64);\n",
        "    # % Rotation\n",
        "    theta = np.deg2rad(theta) \n",
        "    psi = np.deg2rad(psi)\n",
        "    x = x - x0\n",
        "    y = y - y0\n",
        "    x_theta = x * np.cos(theta) + y * np.sin(theta)\n",
        "    y_theta = -x * np.sin(theta) + y * np.cos(theta)\n",
        "\n",
        "    gaussian_mask = np.exp(-.5*(x_theta**2/sigma_x**2+y_theta**2/sigma_y**2))\n",
        "    gaussian_mask[gaussian_mask < (np.max(gaussian_mask)*0.01)] = 0\n",
        "\n",
        "    sinusoid = np.cos(2*np.pi/lmbda*x_theta+psi);\n",
        "\n",
        "    gb = gaussian_mask * sinusoid;\n",
        "\n",
        "    return gb\n",
        "\n",
        "def gaborfit():\n",
        "# % produce a set of gabor wavelet directly\n",
        "\n",
        "    out = display(progress(0, 100), display_id=True) #generate waitbar\n",
        "\n",
        "    ang_rang = [0, 22.5000, 45.0000, 67.5000, 90.0000, 112.5000, 135.0000, 157.5000]\n",
        "    gab = np.zeros([128,128,5456])\n",
        "    count = 0\n",
        "    for i in range(1,6): #=1:5\n",
        "        FOV = 2**(i-1) #convoluted way to get [1,2,4,8,16]\n",
        "        '''\n",
        "        Spatial frequency tuning - goes through 1-5, producing FOV = 1,2,4,8,16\n",
        "        '''\n",
        "        lmbda = 128 / FOV # [128,64,32,16,8]\n",
        "        if FOV == 1:\n",
        "            x0 = 0 \n",
        "            y0 = 0 \n",
        "        elif FOV == 2:\n",
        "            x0 = -32\n",
        "            y0 = -32\n",
        "        elif FOV == 4:\n",
        "            x0 = -48\n",
        "            y0 = -48\n",
        "        elif FOV == 8:\n",
        "            x0 = -56 \n",
        "            y0 = -56 \n",
        "        elif FOV == 16:\n",
        "            x0 = -60 \n",
        "            y0 = -60 \n",
        "\n",
        "        for angle in ang_rang: #range(0,7*22.5+1,22.5)\n",
        "            for j in range(FOV): #=0:FOV-1:\n",
        "                for k in range(FOV): #=0:FOV-1:\n",
        "                    gab[:,:,count] = gabor_fn(angle, lmbda, 0, 1, x0+j*lmbda, y0+k*lmbda);\n",
        "                    count += 1\n",
        "                    gab[:,:,count] = gabor_fn(angle, lmbda, 180, 1, x0+j*lmbda, y0+k*lmbda);\n",
        "                    count += 1\n",
        "                    if count % 20 == 0: \n",
        "                      out.update(progress(count, 5456)) # update waitbar\n",
        "    out.update(progress(count, 5456)) # update waitbar\n",
        "    \n",
        "    gab = np.dstack((gab, np.ones((128,128)))); # add dc offset 'gabor'\n",
        "    gab = np.dstack((gab, -np.ones((128,128)))); # add pairing - not sure if this is technically required but the following code likes pairs, and it can't hurt\n",
        "        \n",
        "    return gab"
      ],
      "execution_count": 3,
      "outputs": []
    },
    {
      "cell_type": "code",
      "metadata": {
        "id": "i7qYW0eTN1XX",
        "colab_type": "code",
        "colab": {}
      },
      "source": [
        "gabor_wavelet_pyramid = gaborfit()"
      ],
      "execution_count": null,
      "outputs": []
    },
    {
      "cell_type": "code",
      "metadata": {
        "id": "Afuy9DvfPHWW",
        "colab_type": "code",
        "cellView": "form",
        "colab": {
          "base_uri": "https://localhost:8080/",
          "height": 93
        },
        "outputId": "e43c0ab7-51c3-4235-e5ec-272b499c2d5c"
      },
      "source": [
        "# @title Visualize a sample of gabors (optional)\n",
        "# Replicating sup figure 2\n",
        "\n",
        "\n",
        "fig, axs = plt.subplots(1,5)\n",
        "fig.subplots_adjust(wspace=.1)\n",
        "\n",
        "\n",
        "idx = [4,34,156,648,2590] # only done by eye - might not be precisely correct values\n",
        "\n",
        "for i in range(len(axs)):\n",
        "  axs[i].imshow(gabor_wavelet_pyramid[:,:,idx[i]]);\n",
        "  axs[i].axis('off')"
      ],
      "execution_count": 5,
      "outputs": [
        {
          "output_type": "display_data",
          "data": {
            "image/png": "[encoded data removed]",
            "text/plain": [
              "<Figure size 432x288 with 5 Axes>"
            ]
          },
          "metadata": {
            "tags": [],
            "needs_background": "light"
          }
        }
      ]
    },
    {
      "cell_type": "markdown",
      "metadata": {
        "id": "JrIESnvkPDeY",
        "colab_type": "text"
      },
      "source": [
        "### Project training images into gabor space"
      ]
    },
    {
      "cell_type": "markdown",
      "metadata": {
        "id": "IqQrbBY4s7kY",
        "colab_type": "text"
      },
      "source": [
        "**Either run cell 1 (to load the data), or 2 or 3 (to generate data a-fresh):**"
      ]
    },
    {
      "cell_type": "code",
      "metadata": {
        "id": "yShbyxgfrGOw",
        "colab_type": "code",
        "cellView": "form",
        "colab": {}
      },
      "source": [
        "# @title 1. Load gabor-space training images from previous run\n",
        "\n",
        "from google.colab import files\n",
        "\n",
        "# download to local from https://github.com/da5nsy/ReplicatingKay2008/blob/master/datafiles/proj.npy\n",
        "# there must be a way to do this directly but we don't know it (wget?)\n",
        "\n",
        "files.upload()\n",
        "proj = np.load('proj.npy')"
      ],
      "execution_count": null,
      "outputs": []
    },
    {
      "cell_type": "code",
      "metadata": {
        "id": "w5VVDBW0G_Cx",
        "colab_type": "code",
        "cellView": "form",
        "colab": {}
      },
      "source": [
        "# @title 2. Project images into gabor space (vectorized version - takes roughly 40 minutes)\n",
        "t = time.time()\n",
        "image_lib = dat[\"stimuli\"].reshape(dat[\"stimuli\"].shape[0], -1)\n",
        "gabor_lib = np.moveaxis(gabor_wavelet_pyramid, -1, 0)\n",
        "gabor_lib = gabor_lib.reshape(gabor_lib.shape[0], -1)\n",
        "\n",
        "num_images = image_lib.shape[0] # can be any number\n",
        "num_gabors = gabor_lib.shape[0] # should be even number since gabors are pairs\n",
        "\n",
        "image_lib = image_lib[:num_images, :]\n",
        "gabor_lib = gabor_lib[:num_gabors, :]\n",
        "\n",
        "gabor_lib_000_phase = gabor_lib[::2, :]\n",
        "gabor_lib_180_phase = gabor_lib[1::2, :]\n",
        "gabor_lib_000_phase_norm = np.sqrt(np.sum(gabor_lib_000_phase ** 2, axis=1)).reshape(1, -1)\n",
        "gabor_lib_180_phase_norm = np.sqrt(np.sum(gabor_lib_180_phase ** 2, axis=1)).reshape(1, -1)\n",
        "\n",
        "t1 = ( image_lib @ gabor_lib_000_phase.T ) / gabor_lib_000_phase_norm\n",
        "t2 = ( image_lib @ gabor_lib_180_phase.T ) / gabor_lib_180_phase_norm\n",
        "\n",
        "proj = np.sqrt((t1**2)+(t2**2))\n",
        "\n",
        "elapsed = time.time() - t\n",
        "print('Time elapsed:', elapsed)"
      ],
      "execution_count": null,
      "outputs": []
    },
    {
      "cell_type": "code",
      "metadata": {
        "id": "M26XY0FSPW5Y",
        "colab_type": "code",
        "cellView": "form",
        "colab": {}
      },
      "source": [
        "# @title 3. Project images into gabor space (original version - takes roughly 2 hours)\n",
        "\n",
        "t = time.time()\n",
        "out = display(progress(0, 100), display_id=True) #generate waitbar\n",
        "\n",
        "proj = np.zeros((len(dat[\"stimuli\"]),gabor_wavelet_pyramid.shape[2]//2))\n",
        "\n",
        "for i in range(len(dat[\"stimuli\"])): #training images \n",
        "  for j in range(0,gabor_wavelet_pyramid.shape[2],2):\n",
        "    a = dat[\"stimuli\"][i].reshape(-1)\n",
        "    b = gabor_wavelet_pyramid[:,:,j].reshape(-1)\n",
        "    c = gabor_wavelet_pyramid[:,:,j+1].reshape(-1)\n",
        "    t1 = (a@b)/np.sqrt(b.T@b)\n",
        "    t2 = (a@c)/np.sqrt(c.T@c)\n",
        "    proj[i,(j+1)//2] = np.sqrt((t1**2)+(t2**2))\n",
        "    # proj[i,(j+1)//2] = t1+t2 # the above means that we only ever get out positive weights, which doesn't feel right. Testing this version instead.\n",
        "\n",
        "  out.update(progress(i, len(dat[\"stimuli\"])-1)) # update waitbar\n",
        "\n",
        "elapsed = time.time() - t\n",
        "print('Time elapsed:', elapsed)\n"
      ],
      "execution_count": null,
      "outputs": []
    },
    {
      "cell_type": "markdown",
      "metadata": {
        "id": "E9MwSK8Aterp",
        "colab_type": "text"
      },
      "source": [
        "Run the following cell if you ran cell 2 or 3 above, to save the generated array (so that you can run cell 1 next time!)"
      ]
    },
    {
      "cell_type": "code",
      "metadata": {
        "id": "HSxQ-PAeUfNs",
        "colab_type": "code",
        "cellView": "form",
        "colab": {}
      },
      "source": [
        "# @title Save proj file\n",
        "\n",
        "np.save('proj.npy',proj)"
      ],
      "execution_count": null,
      "outputs": []
    },
    {
      "cell_type": "markdown",
      "metadata": {
        "id": "CUID524GPn6y",
        "colab_type": "text"
      },
      "source": [
        "Visualize projection data (optional)"
      ]
    },
    {
      "cell_type": "code",
      "metadata": {
        "id": "Dk1e56cgsWS6",
        "colab_type": "code",
        "colab": {}
      },
      "source": [
        "plt.hist(np.concatenate(proj),bins=100);"
      ],
      "execution_count": null,
      "outputs": []
    },
    {
      "cell_type": "markdown",
      "metadata": {
        "id": "FLvSfXwhuzlb",
        "colab_type": "text"
      },
      "source": [
        "### Project testing images into gabor space"
      ]
    },
    {
      "cell_type": "markdown",
      "metadata": {
        "id": "PDRYH7LmOePp",
        "colab_type": "text"
      },
      "source": [
        "**Either run cell 1 (to load the data) or 2 (to generate data a-fresh).**"
      ]
    },
    {
      "cell_type": "code",
      "metadata": {
        "id": "vUVijA0LOorT",
        "colab_type": "code",
        "colab": {
          "resources": {
            "http://localhost:8080/nbextensions/google.colab/files.js": {
              "data": "Ly8gQ29weXJpZ2h0IDIwMTcgR29vZ2xlIExMQwovLwovLyBMaWNlbnNlZCB1bmRlciB0aGUgQXBhY2hlIExpY2Vuc2UsIFZlcnNpb24gMi4wICh0aGUgIkxpY2Vuc2UiKTsKLy8geW91IG1heSBub3QgdXNlIHRoaXMgZmlsZSBleGNlcHQgaW4gY29tcGxpYW5jZSB3aXRoIHRoZSBMaWNlbnNlLgovLyBZb3UgbWF5IG9idGFpbiBhIGNvcHkgb2YgdGhlIExpY2Vuc2UgYXQKLy8KLy8gICAgICBodHRwOi8vd3d3LmFwYWNoZS5vcmcvbGljZW5zZXMvTElDRU5TRS0yLjAKLy8KLy8gVW5sZXNzIHJlcXVpcmVkIGJ5IGFwcGxpY2FibGUgbGF3IG9yIGFncmVlZCB0byBpbiB3cml0aW5nLCBzb2Z0d2FyZQovLyBkaXN0cmlidXRlZCB1bmRlciB0aGUgTGljZW5zZSBpcyBkaXN0cmlidXRlZCBvbiBhbiAiQVMgSVMiIEJBU0lTLAovLyBXSVRIT1VUIFdBUlJBTlRJRVMgT1IgQ09ORElUSU9OUyBPRiBBTlkgS0lORCwgZWl0aGVyIGV4cHJlc3Mgb3IgaW1wbGllZC4KLy8gU2VlIHRoZSBMaWNlbnNlIGZvciB0aGUgc3BlY2lmaWMgbGFuZ3VhZ2UgZ292ZXJuaW5nIHBlcm1pc3Npb25zIGFuZAovLyBsaW1pdGF0aW9ucyB1bmRlciB0aGUgTGljZW5zZS4KCi8qKgogKiBAZmlsZW92ZXJ2aWV3IEhlbHBlcnMgZm9yIGdvb2dsZS5jb2xhYiBQeXRob24gbW9kdWxlLgogKi8KKGZ1bmN0aW9uKHNjb3BlKSB7CmZ1bmN0aW9uIHNwYW4odGV4dCwgc3R5bGVBdHRyaWJ1dGVzID0ge30pIHsKICBjb25zdCBlbGVtZW50ID0gZG9jdW1lbnQuY3JlYXRlRWxlbWVudCgnc3BhbicpOwogIGVsZW1lbnQudGV4dENvbnRlbnQgPSB0ZXh0OwogIGZvciAoY29uc3Qga2V5IG9mIE9iamVjdC5rZXlzKHN0eWxlQXR0cmlidXRlcykpIHsKICAgIGVsZW1lbnQuc3R5bGVba2V5XSA9IHN0eWxlQXR0cmlidXRlc1trZXldOwogIH0KICByZXR1cm4gZWxlbWVudDsKfQoKLy8gTWF4IG51bWJlciBvZiBieXRlcyB3aGljaCB3aWxsIGJlIHVwbG9hZGVkIGF0IGEgdGltZS4KY29uc3QgTUFYX1BBWUxPQURfU0laRSA9IDEwMCAqIDEwMjQ7CgpmdW5jdGlvbiBfdXBsb2FkRmlsZXMoaW5wdXRJZCwgb3V0cHV0SWQpIHsKICBjb25zdCBzdGVwcyA9IHVwbG9hZEZpbGVzU3RlcChpbnB1dElkLCBvdXRwdXRJZCk7CiAgY29uc3Qgb3V0cHV0RWxlbWVudCA9IGRvY3VtZW50LmdldEVsZW1lbnRCeUlkKG91dHB1dElkKTsKICAvLyBDYWNoZSBzdGVwcyBvbiB0aGUgb3V0cHV0RWxlbWVudCB0byBtYWtlIGl0IGF2YWlsYWJsZSBmb3IgdGhlIG5leHQgY2FsbAogIC8vIHRvIHVwbG9hZEZpbGVzQ29udGludWUgZnJvbSBQeXRob24uCiAgb3V0cHV0RWxlbWVudC5zdGVwcyA9IHN0ZXBzOwoKICByZXR1cm4gX3VwbG9hZEZpbGVzQ29udGludWUob3V0cHV0SWQpOwp9CgovLyBUaGlzIGlzIHJvdWdobHkgYW4gYXN5bmMgZ2VuZXJhdG9yIChub3Qgc3VwcG9ydGVkIGluIHRoZSBicm93c2VyIHlldCksCi8vIHdoZXJlIHRoZXJlIGFyZSBtdWx0aXBsZSBhc3luY2hyb25vdXMgc3RlcHMgYW5kIHRoZSBQeXRob24gc2lkZSBpcyBnb2luZwovLyB0byBwb2xsIGZvciBjb21wbGV0aW9uIG9mIGVhY2ggc3RlcC4KLy8gVGhpcyB1c2VzIGEgUHJvbWlzZSB0byBibG9jayB0aGUgcHl0aG9uIHNpZGUgb24gY29tcGxldGlvbiBvZiBlYWNoIHN0ZXAsCi8vIHRoZW4gcGFzc2VzIHRoZSByZXN1bHQgb2YgdGhlIHByZXZpb3VzIHN0ZXAgYXMgdGhlIGlucHV0IHRvIHRoZSBuZXh0IHN0ZXAuCmZ1bmN0aW9uIF91cGxvYWRGaWxlc0NvbnRpbnVlKG91dHB1dElkKSB7CiAgY29uc3Qgb3V0cHV0RWxlbWVudCA9IGRvY3VtZW50LmdldEVsZW1lbnRCeUlkKG91dHB1dElkKTsKICBjb25zdCBzdGVwcyA9IG91dHB1dEVsZW1lbnQuc3RlcHM7CgogIGNvbnN0IG5leHQgPSBzdGVwcy5uZXh0KG91dHB1dEVsZW1lbnQubGFzdFByb21pc2VWYWx1ZSk7CiAgcmV0dXJuIFByb21pc2UucmVzb2x2ZShuZXh0LnZhbHVlLnByb21pc2UpLnRoZW4oKHZhbHVlKSA9PiB7CiAgICAvLyBDYWNoZSB0aGUgbGFzdCBwcm9taXNlIHZhbHVlIHRvIG1ha2UgaXQgYXZhaWxhYmxlIHRvIHRoZSBuZXh0CiAgICAvLyBzdGVwIG9mIHRoZSBnZW5lcmF0b3IuCiAgICBvdXRwdXRFbGVtZW50Lmxhc3RQcm9taXNlVmFsdWUgPSB2YWx1ZTsKICAgIHJldHVybiBuZXh0LnZhbHVlLnJlc3BvbnNlOwogIH0pOwp9CgovKioKICogR2VuZXJhdG9yIGZ1bmN0aW9uIHdoaWNoIGlzIGNhbGxlZCBiZXR3ZWVuIGVhY2ggYXN5bmMgc3RlcCBvZiB0aGUgdXBsb2FkCiAqIHByb2Nlc3MuCiAqIEBwYXJhbSB7c3RyaW5nfSBpbnB1dElkIEVsZW1lbnQgSUQgb2YgdGhlIGlucHV0IGZpbGUgcGlja2VyIGVsZW1lbnQuCiAqIEBwYXJhbSB7c3RyaW5nfSBvdXRwdXRJZCBFbGVtZW50IElEIG9mIHRoZSBvdXRwdXQgZGlzcGxheS4KICogQHJldHVybiB7IUl0ZXJhYmxlPCFPYmplY3Q+fSBJdGVyYWJsZSBvZiBuZXh0IHN0ZXBzLgogKi8KZnVuY3Rpb24qIHVwbG9hZEZpbGVzU3RlcChpbnB1dElkLCBvdXRwdXRJZCkgewogIGNvbnN0IGlucHV0RWxlbWVudCA9IGRvY3VtZW50LmdldEVsZW1lbnRCeUlkKGlucHV0SWQpOwogIGlucHV0RWxlbWVudC5kaXNhYmxlZCA9IGZhbHNlOwoKICBjb25zdCBvdXRwdXRFbGVtZW50ID0gZG9jdW1lbnQuZ2V0RWxlbWVudEJ5SWQob3V0cHV0SWQpOwogIG91dHB1dEVsZW1lbnQuaW5uZXJIVE1MID0gJyc7CgogIGNvbnN0IHBpY2tlZFByb21pc2UgPSBuZXcgUHJvbWlzZSgocmVzb2x2ZSkgPT4gewogICAgaW5wdXRFbGVtZW50LmFkZEV2ZW50TGlzdGVuZXIoJ2NoYW5nZScsIChlKSA9PiB7CiAgICAgIHJlc29sdmUoZS50YXJnZXQuZmlsZXMpOwogICAgfSk7CiAgfSk7CgogIGNvbnN0IGNhbmNlbCA9IGRvY3VtZW50LmNyZWF0ZUVsZW1lbnQoJ2J1dHRvbicpOwogIGlucHV0RWxlbWVudC5wYXJlbnRFbGVtZW50LmFwcGVuZENoaWxkKGNhbmNlbCk7CiAgY2FuY2VsLnRleHRDb250ZW50ID0gJ0NhbmNlbCB1cGxvYWQnOwogIGNvbnN0IGNhbmNlbFByb21pc2UgPSBuZXcgUHJvbWlzZSgocmVzb2x2ZSkgPT4gewogICAgY2FuY2VsLm9uY2xpY2sgPSAoKSA9PiB7CiAgICAgIHJlc29sdmUobnVsbCk7CiAgICB9OwogIH0pOwoKICAvLyBXYWl0IGZvciB0aGUgdXNlciB0byBwaWNrIHRoZSBmaWxlcy4KICBjb25zdCBmaWxlcyA9IHlpZWxkIHsKICAgIHByb21pc2U6IFByb21pc2UucmFjZShbcGlja2VkUHJvbWlzZSwgY2FuY2VsUHJvbWlzZV0pLAogICAgcmVzcG9uc2U6IHsKICAgICAgYWN0aW9uOiAnc3RhcnRpbmcnLAogICAgfQogIH07CgogIGNhbmNlbC5yZW1vdmUoKTsKCiAgLy8gRGlzYWJsZSB0aGUgaW5wdXQgZWxlbWVudCBzaW5jZSBmdXJ0aGVyIHBpY2tzIGFyZSBub3QgYWxsb3dlZC4KICBpbnB1dEVsZW1lbnQuZGlzYWJsZWQgPSB0cnVlOwoKICBpZiAoIWZpbGVzKSB7CiAgICByZXR1cm4gewogICAgICByZXNwb25zZTogewogICAgICAgIGFjdGlvbjogJ2NvbXBsZXRlJywKICAgICAgfQogICAgfTsKICB9CgogIGZvciAoY29uc3QgZmlsZSBvZiBmaWxlcykgewogICAgY29uc3QgbGkgPSBkb2N1bWVudC5jcmVhdGVFbGVtZW50KCdsaScpOwogICAgbGkuYXBwZW5kKHNwYW4oZmlsZS5uYW1lLCB7Zm9udFdlaWdodDogJ2JvbGQnfSkpOwogICAgbGkuYXBwZW5kKHNwYW4oCiAgICAgICAgYCgke2ZpbGUudHlwZSB8fCAnbi9hJ30pIC0gJHtmaWxlLnNpemV9IGJ5dGVzLCBgICsKICAgICAgICBgbGFzdCBtb2RpZmllZDogJHsKICAgICAgICAgICAgZmlsZS5sYXN0TW9kaWZpZWREYXRlID8gZmlsZS5sYXN0TW9kaWZpZWREYXRlLnRvTG9jYWxlRGF0ZVN0cmluZygpIDoKICAgICAgICAgICAgICAgICAgICAgICAgICAgICAgICAgICAgJ24vYSd9IC0gYCkpOwogICAgY29uc3QgcGVyY2VudCA9IHNwYW4oJzAlIGRvbmUnKTsKICAgIGxpLmFwcGVuZENoaWxkKHBlcmNlbnQpOwoKICAgIG91dHB1dEVsZW1lbnQuYXBwZW5kQ2hpbGQobGkpOwoKICAgIGNvbnN0IGZpbGVEYXRhUHJvbWlzZSA9IG5ldyBQcm9taXNlKChyZXNvbHZlKSA9PiB7CiAgICAgIGNvbnN0IHJlYWRlciA9IG5ldyBGaWxlUmVhZGVyKCk7CiAgICAgIHJlYWRlci5vbmxvYWQgPSAoZSkgPT4gewogICAgICAgIHJlc29sdmUoZS50YXJnZXQucmVzdWx0KTsKICAgICAgfTsKICAgICAgcmVhZGVyLnJlYWRBc0FycmF5QnVmZmVyKGZpbGUpOwogICAgfSk7CiAgICAvLyBXYWl0IGZvciB0aGUgZGF0YSB0byBiZSByZWFkeS4KICAgIGxldCBmaWxlRGF0YSA9IHlpZWxkIHsKICAgICAgcHJvbWlzZTogZmlsZURhdGFQcm9taXNlLAogICAgICByZXNwb25zZTogewogICAgICAgIGFjdGlvbjogJ2NvbnRpbnVlJywKICAgICAgfQogICAgfTsKCiAgICAvLyBVc2UgYSBjaHVua2VkIHNlbmRpbmcgdG8gYXZvaWQgbWVzc2FnZSBzaXplIGxpbWl0cy4gU2VlIGIvNjIxMTU2NjAuCiAgICBsZXQgcG9zaXRpb24gPSAwOwogICAgd2hpbGUgKHBvc2l0aW9uIDwgZmlsZURhdGEuYnl0ZUxlbmd0aCkgewogICAgICBjb25zdCBsZW5ndGggPSBNYXRoLm1pbihmaWxlRGF0YS5ieXRlTGVuZ3RoIC0gcG9zaXRpb24sIE1BWF9QQVlMT0FEX1NJWkUpOwogICAgICBjb25zdCBjaHVuayA9IG5ldyBVaW50OEFycmF5KGZpbGVEYXRhLCBwb3NpdGlvbiwgbGVuZ3RoKTsKICAgICAgcG9zaXRpb24gKz0gbGVuZ3RoOwoKICAgICAgY29uc3QgYmFzZTY0ID0gYnRvYShTdHJpbmcuZnJvbUNoYXJDb2RlLmFwcGx5KG51bGwsIGNodW5rKSk7CiAgICAgIHlpZWxkIHsKICAgICAgICByZXNwb25zZTogewogICAgICAgICAgYWN0aW9uOiAnYXBwZW5kJywKICAgICAgICAgIGZpbGU6IGZpbGUubmFtZSwKICAgICAgICAgIGRhdGE6IGJhc2U2NCwKICAgICAgICB9LAogICAgICB9OwogICAgICBwZXJjZW50LnRleHRDb250ZW50ID0KICAgICAgICAgIGAke01hdGgucm91bmQoKHBvc2l0aW9uIC8gZmlsZURhdGEuYnl0ZUxlbmd0aCkgKiAxMDApfSUgZG9uZWA7CiAgICB9CiAgfQoKICAvLyBBbGwgZG9uZS4KICB5aWVsZCB7CiAgICByZXNwb25zZTogewogICAgICBhY3Rpb246ICdjb21wbGV0ZScsCiAgICB9CiAgfTsKfQoKc2NvcGUuZ29vZ2xlID0gc2NvcGUuZ29vZ2xlIHx8IHt9OwpzY29wZS5nb29nbGUuY29sYWIgPSBzY29wZS5nb29nbGUuY29sYWIgfHwge307CnNjb3BlLmdvb2dsZS5jb2xhYi5fZmlsZXMgPSB7CiAgX3VwbG9hZEZpbGVzLAogIF91cGxvYWRGaWxlc0NvbnRpbnVlLAp9Owp9KShzZWxmKTsK",
              "ok": true,
              "headers": [
                [
                  "content-type",
                  "application/javascript"
                ]
              ],
              "status": 200,
              "status_text": "OK"
            }
          },
          "base_uri": "https://localhost:8080/",
          "height": 72
        },
        "cellView": "both",
        "outputId": "e54bf551-b441-44cb-a73d-40a0db7286a7"
      },
      "source": [
        "# @title 1. Load gabor-space test images from previous run\n",
        "\n",
        "from google.colab import files\n",
        "\n",
        "# download to local from https://github.com/da5nsy/ReplicatingKay2008/blob/master/datafiles/proj_test.npy\n",
        "# there must be a way to do this directly but we don't know it (wget?)\n",
        "\n",
        "files.upload()\n",
        "proj_test = np.load('proj_test.npy')"
      ],
      "execution_count": 53,
      "outputs": [
        {
          "output_type": "display_data",
          "data": {
            "text/html": [
              "\n",
              "     <input type=\"file\" id=\"files-5b4ad209-20a7-4c08-ad73-c23ae3d485a6\" name=\"files[]\" multiple disabled\n",
              "        style=\"border:none\" />\n",
              "     <output id=\"result-5b4ad209-20a7-4c08-ad73-c23ae3d485a6\">\n",
              "      Upload widget is only available when the cell has been executed in the\n",
              "      current browser session. Please rerun this cell to enable.\n",
              "      </output>\n",
              "      <script src=\"/nbextensions/google.colab/files.js\"></script> "
            ],
            "text/plain": [
              "<IPython.core.display.HTML object>"
            ]
          },
          "metadata": {
            "tags": []
          }
        },
        {
          "output_type": "stream",
          "text": [
            "Saving proj_test.npy to proj_test.npy\n"
          ],
          "name": "stdout"
        }
      ]
    },
    {
      "cell_type": "code",
      "metadata": {
        "id": "8jQY2SmrTSpQ",
        "colab_type": "code",
        "colab": {},
        "cellView": "form"
      },
      "source": [
        "# @title 2. Project test images into gabor space (vectorized version)\n",
        "\n",
        "# Copied from vectorized version above\n",
        "\n",
        "t = time.time()\n",
        "image_lib = dat[\"stimuli_test\"].reshape(dat[\"stimuli_test\"].shape[0], -1)\n",
        "gabor_lib = np.moveaxis(gabor_wavelet_pyramid, -1, 0)\n",
        "gabor_lib = gabor_lib.reshape(gabor_lib.shape[0], -1)\n",
        "\n",
        "num_images = image_lib.shape[0] # can be any number\n",
        "num_gabors = gabor_lib.shape[0] # should be even number since gabors are pairs\n",
        "\n",
        "image_lib = image_lib[:num_images, :]\n",
        "gabor_lib = gabor_lib[:num_gabors, :]\n",
        "\n",
        "gabor_lib_000_phase = gabor_lib[::2, :]\n",
        "gabor_lib_180_phase = gabor_lib[1::2, :]\n",
        "gabor_lib_000_phase_norm = np.sqrt(np.sum(gabor_lib_000_phase ** 2, axis=1)).reshape(1, -1)\n",
        "gabor_lib_180_phase_norm = np.sqrt(np.sum(gabor_lib_180_phase ** 2, axis=1)).reshape(1, -1)\n",
        "\n",
        "t1 = ( image_lib @ gabor_lib_000_phase.T ) / gabor_lib_000_phase_norm\n",
        "t2 = ( image_lib @ gabor_lib_180_phase.T ) / gabor_lib_180_phase_norm\n",
        "\n",
        "proj_test = np.sqrt((t1**2)+(t2**2))\n",
        "\n",
        "elapsed = time.time() - t\n",
        "print('Time elapsed:', elapsed)"
      ],
      "execution_count": null,
      "outputs": []
    },
    {
      "cell_type": "markdown",
      "metadata": {
        "id": "Wwoe-MPYP7KI",
        "colab_type": "text"
      },
      "source": [
        "Run the following cell if you ran cell 2 above, to save the generated array (so that you can run cell 1 next time!)"
      ]
    },
    {
      "cell_type": "code",
      "metadata": {
        "id": "vPNrlU-9Txwe",
        "colab_type": "code",
        "colab": {},
        "cellView": "form"
      },
      "source": [
        "# @title Save proj_test file\n",
        "\n",
        "np.save('proj_test.npy',proj_test)"
      ],
      "execution_count": null,
      "outputs": []
    },
    {
      "cell_type": "markdown",
      "metadata": {
        "id": "meMMi_R3Q1DY",
        "colab_type": "text"
      },
      "source": [
        "### Construct the model"
      ]
    },
    {
      "cell_type": "code",
      "metadata": {
        "id": "isUQ_0PRQ5Ej",
        "colab_type": "code",
        "colab": {},
        "cellView": "both"
      },
      "source": [
        "## @title Load additional libraries\n",
        "\n",
        "from sklearn.linear_model import LinearRegression"
      ],
      "execution_count": 12,
      "outputs": []
    },
    {
      "cell_type": "code",
      "metadata": {
        "id": "dD6VXPQAaUvT",
        "colab_type": "code",
        "colab": {
          "base_uri": "https://localhost:8080/",
          "height": 54
        },
        "outputId": "a52f0656-3275-4c89-d7e2-b88af0da55be"
      },
      "source": [
        "# Prepare data\n",
        "\n",
        "X = proj\n",
        "y = dat[\"responses\"][:,0] # first voxel only!\n",
        "\n",
        "print(X.shape)\n",
        "print(y.shape)"
      ],
      "execution_count": 77,
      "outputs": [
        {
          "output_type": "stream",
          "text": [
            "(1750, 2729)\n",
            "(1750,)\n"
          ],
          "name": "stdout"
        }
      ]
    },
    {
      "cell_type": "code",
      "metadata": {
        "id": "f3vXW86daCiH",
        "colab_type": "code",
        "colab": {}
      },
      "source": [
        "reg = LinearRegression().fit(X, y)"
      ],
      "execution_count": 78,
      "outputs": []
    },
    {
      "cell_type": "code",
      "metadata": {
        "id": "5BMEWi_CbXif",
        "colab_type": "code",
        "colab": {
          "base_uri": "https://localhost:8080/",
          "height": 35
        },
        "outputId": "7027697a-ca4e-4159-ad11-d0e88af12c2d"
      },
      "source": [
        "reg.score(X, y)"
      ],
      "execution_count": 79,
      "outputs": [
        {
          "output_type": "execute_result",
          "data": {
            "text/plain": [
              "1.0"
            ]
          },
          "metadata": {
            "tags": []
          },
          "execution_count": 79
        }
      ]
    },
    {
      "cell_type": "code",
      "metadata": {
        "id": "drtt0uybbX1M",
        "colab_type": "code",
        "colab": {
          "base_uri": "https://localhost:8080/",
          "height": 72
        },
        "outputId": "8e274c6f-1d92-431e-eedd-8f9ebd779945"
      },
      "source": [
        "print(reg.coef_)\n",
        "print(reg.coef_.shape)"
      ],
      "execution_count": 80,
      "outputs": [
        {
          "output_type": "stream",
          "text": [
            "[-0.07811678  0.04068248 -0.05914982 ...  0.          0.\n",
            "  0.01348594]\n",
            "(2729,)\n"
          ],
          "name": "stdout"
        }
      ]
    },
    {
      "cell_type": "code",
      "metadata": {
        "id": "_qz1ZJGtbcwM",
        "colab_type": "code",
        "colab": {
          "base_uri": "https://localhost:8080/",
          "height": 267
        },
        "outputId": "54033b22-db8d-41bb-f311-27fdc9627c3b"
      },
      "source": [
        "plt.hist(reg.coef_);"
      ],
      "execution_count": 81,
      "outputs": [
        {
          "output_type": "display_data",
          "data": {
            "image/png": "[encoded data removed]",
            "text/plain": [
              "<Figure size 432x288 with 1 Axes>"
            ]
          },
          "metadata": {
            "tags": [],
            "needs_background": "light"
          }
        }
      ]
    },
    {
      "cell_type": "code",
      "metadata": {
        "id": "Te42dT5WcOXi",
        "colab_type": "code",
        "colab": {
          "base_uri": "https://localhost:8080/",
          "height": 265
        },
        "outputId": "bd08f9da-4ff7-4b0d-daf8-5d6d6f9f6039"
      },
      "source": [
        "plt.scatter(range(len(reg.coef_)),reg.coef_,alpha = 0.05);"
      ],
      "execution_count": 82,
      "outputs": [
        {
          "output_type": "display_data",
          "data": {
            "image/png": "[encoded data removed]",
            "text/plain": [
              "<Figure size 432x288 with 1 Axes>"
            ]
          },
          "metadata": {
            "tags": [],
            "needs_background": "light"
          }
        }
      ]
    },
    {
      "cell_type": "code",
      "metadata": {
        "id": "MSrzrONJblvz",
        "colab_type": "code",
        "colab": {
          "base_uri": "https://localhost:8080/",
          "height": 35
        },
        "outputId": "1aa19d18-7288-465c-f449-7fe768844319"
      },
      "source": [
        "reg.intercept_"
      ],
      "execution_count": 83,
      "outputs": [
        {
          "output_type": "execute_result",
          "data": {
            "text/plain": [
              "-0.3102335189870421"
            ]
          },
          "metadata": {
            "tags": []
          },
          "execution_count": 83
        }
      ]
    },
    {
      "cell_type": "code",
      "metadata": {
        "id": "isACvOk1iVm4",
        "colab_type": "code",
        "colab": {
          "base_uri": "https://localhost:8080/",
          "height": 285
        },
        "outputId": "6de51fc3-a4a4-42b4-8140-1169244de4e6"
      },
      "source": [
        "plt.scatter(reg.predict(X),y)"
      ],
      "execution_count": 86,
      "outputs": [
        {
          "output_type": "execute_result",
          "data": {
            "text/plain": [
              "<matplotlib.collections.PathCollection at 0x7ff486ed2978>"
            ]
          },
          "metadata": {
            "tags": []
          },
          "execution_count": 86
        },
        {
          "output_type": "display_data",
          "data": {
            "image/png": "[encoded data removed]",
            "text/plain": [
              "<Figure size 432x288 with 1 Axes>"
            ]
          },
          "metadata": {
            "tags": [],
            "needs_background": "light"
          }
        }
      ]
    },
    {
      "cell_type": "markdown",
      "metadata": {
        "id": "Bxy3SepHiTCf",
        "colab_type": "text"
      },
      "source": [
        "# Testing on unseen data"
      ]
    },
    {
      "cell_type": "code",
      "metadata": {
        "id": "M1TXo88obtTk",
        "colab_type": "code",
        "colab": {
          "base_uri": "https://localhost:8080/",
          "height": 54
        },
        "outputId": "58ee534b-c376-4295-fe71-737b0b9a1646"
      },
      "source": [
        "print(proj_test.shape)\n",
        "print(dat[\"responses_test\"].shape)"
      ],
      "execution_count": 84,
      "outputs": [
        {
          "output_type": "stream",
          "text": [
            "(120, 2729)\n",
            "(120, 8428)\n"
          ],
          "name": "stdout"
        }
      ]
    },
    {
      "cell_type": "code",
      "metadata": {
        "id": "dQflQswTdJD7",
        "colab_type": "code",
        "colab": {
          "base_uri": "https://localhost:8080/",
          "height": 35
        },
        "outputId": "30586725-cac4-4761-c960-77cd0370fc35"
      },
      "source": [
        "vx1test = reg.predict(proj_test)\n",
        "#print(vx1test)\n",
        "print(vx1test.shape)"
      ],
      "execution_count": 71,
      "outputs": [
        {
          "output_type": "stream",
          "text": [
            "(120,)\n"
          ],
          "name": "stdout"
        }
      ]
    },
    {
      "cell_type": "code",
      "metadata": {
        "id": "B-VcybmDd3P5",
        "colab_type": "code",
        "colab": {
          "base_uri": "https://localhost:8080/",
          "height": 283
        },
        "outputId": "dfc5b604-ead0-4a1d-8e06-dbda7ea8088c"
      },
      "source": [
        "plt.scatter(dat[\"responses_test\"][:,0],vx1test)"
      ],
      "execution_count": 75,
      "outputs": [
        {
          "output_type": "execute_result",
          "data": {
            "text/plain": [
              "<matplotlib.collections.PathCollection at 0x7ff48703eb70>"
            ]
          },
          "metadata": {
            "tags": []
          },
          "execution_count": 75
        },
        {
          "output_type": "display_data",
          "data": {
            "image/png": "[encoded data removed]",
            "text/plain": [
              "<Figure size 432x288 with 1 Axes>"
            ]
          },
          "metadata": {
            "tags": [],
            "needs_background": "light"
          }
        }
      ]
    },
    {
      "cell_type": "code",
      "metadata": {
        "id": "16NeYkv9efUS",
        "colab_type": "code",
        "colab": {}
      },
      "source": [
        "# Multi-voxels\n",
        "\n",
        "# X = proj\n",
        "# for i in range(10):#range(dat[\"responses_test\"].shape[1]-1):\n",
        "#   y = dat[\"responses\"][:,i]\n",
        "#   reg = LinearRegression().fit(X, y)\n",
        "\n",
        "#   print(reg.score(X, y))\n",
        "#   #plt.scatter(dat[\"responses_test\"][:,i],vx1test)"
      ],
      "execution_count": null,
      "outputs": []
    },
    {
      "cell_type": "code",
      "metadata": {
        "id": "dw-UZbVthXub",
        "colab_type": "code",
        "colab": {}
      },
      "source": [
        ""
      ],
      "execution_count": null,
      "outputs": []
    }
  ]
}